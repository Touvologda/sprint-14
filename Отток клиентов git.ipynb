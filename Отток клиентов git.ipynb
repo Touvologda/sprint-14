{
 "cells": [
  {
   "cell_type": "markdown",
   "id": "dd450fe3",
   "metadata": {},
   "source": [
    "<h1>Построение модели для предсказания оттока \n",
    "<h1> клиентов из банка.<span class=\"tocSkip\"></span></h1>"
   ]
  },
  {
   "cell_type": "markdown",
   "id": "04194fad",
   "metadata": {},
   "source": [
    "**Цель**\n",
    "\n",
    "Построить модель, позволяющую спрогнозировать, уйдет клиент избанка в ближайшее время или нет, основывваясь на исторических данных о поведении клиентов и расторжении договора с банком. \n",
    "\n",
    "Значения F1-меры для модели необходимо получить не менее 0.59, измерить AUC-ROC, сравнить её  с F1-мерой."
   ]
  },
  {
   "cell_type": "markdown",
   "id": "1363536d",
   "metadata": {},
   "source": [
    "**Структура данных**\n",
    "\n",
    "*Данные находятся в файле \"/datasets/Churn.csv\"*\n",
    "\n",
    "RowNumber — индекс строки в данных\n",
    "CustomerId — уникальный идентификатор клиента\n",
    "Surname — фамилия\n",
    "CreditScore — кредитный рейтинг\n",
    "Geography — страна проживания\n",
    "Gender — пол\n",
    "Age — возраст\n",
    "Tenure — сколько лет человек является клиентом банка\n",
    "Balance — баланс на счёте\n",
    "NumOfProducts — количество продуктов банка, используемых клиентом\n",
    "HasCrCard — наличие кредитной карты\n",
    "IsActiveMember — активность клиента\n",
    "EstimatedSalary — предполагаемая зарплата"
   ]
  },
  {
   "cell_type": "markdown",
   "id": "80d1fa29",
   "metadata": {
    "toc": true
   },
   "source": [
    "<h1>Содержание<span class=\"tocSkip\"></span></h1>\n",
    "<div class=\"toc\"><ul class=\"toc-item\"><li><span><a href=\"#Подготовка-данных\" data-toc-modified-id=\"Подготовка-данных-1\"><span class=\"toc-item-num\">1&nbsp;&nbsp;</span>Подготовка данных</a></span></li><li><span><a href=\"#Подготовка-признаков\" data-toc-modified-id=\"Подготовка-признаков-2\"><span class=\"toc-item-num\">2&nbsp;&nbsp;</span>Подготовка признаков</a></span></li><li><span><a href=\"#Исследование-задачи\" data-toc-modified-id=\"Исследование-задачи-3\"><span class=\"toc-item-num\">3&nbsp;&nbsp;</span>Исследование задачи</a></span></li><li><span><a href=\"#Борьба-с-дисбалансом\" data-toc-modified-id=\"Борьба-с-дисбалансом-4\"><span class=\"toc-item-num\">4&nbsp;&nbsp;</span>Борьба с дисбалансом</a></span></li><li><span><a href=\"#Подбор-гиперпараметров\" data-toc-modified-id=\"Подбор-гиперпараметров-5\"><span class=\"toc-item-num\">5&nbsp;&nbsp;</span>Подбор гиперпараметров</a></span></li><li><span><a href=\"#Тестирование-модели\" data-toc-modified-id=\"Тестирование-модели-6\"><span class=\"toc-item-num\">6&nbsp;&nbsp;</span>Тестирование модели</a></span></li><li><span><a href=\"#Итоги\" data-toc-modified-id=\"Итоги-7\"><span class=\"toc-item-num\">7&nbsp;&nbsp;</span>Итоги</a></span></li><li><span><a href=\"#Чек-лист-готовности-проекта\" data-toc-modified-id=\"Чек-лист-готовности-проекта-8\"><span class=\"toc-item-num\">8&nbsp;&nbsp;</span>Чек-лист готовности проекта</a></span></li></ul></div>"
   ]
  },
  {
   "cell_type": "markdown",
   "id": "e9b3d314",
   "metadata": {},
   "source": [
    "# Отток клиентов"
   ]
  },
  {
   "cell_type": "markdown",
   "id": "1c5e8280",
   "metadata": {},
   "source": [
    "Из «Бета-Банка» стали уходить клиенты. Каждый месяц. Немного, но заметно. Банковские маркетологи посчитали: сохранять текущих клиентов дешевле, чем привлекать новых.\n",
    "\n",
    "Нужно спрогнозировать, уйдёт клиент из банка в ближайшее время или нет. Вам предоставлены исторические данные о поведении клиентов и расторжении договоров с банком. \n",
    "\n",
    "Постройте модель с предельно большим значением *F1*-меры. Чтобы сдать проект успешно, нужно довести метрику до 0.59. Проверьте *F1*-меру на тестовой выборке самостоятельно.\n",
    "\n",
    "Дополнительно измеряйте *AUC-ROC*, сравнивайте её значение с *F1*-мерой.\n",
    "\n",
    "Источник данных: [https://www.kaggle.com/barelydedicated/bank-customer-churn-modeling](https://www.kaggle.com/barelydedicated/bank-customer-churn-modeling)"
   ]
  },
  {
   "cell_type": "markdown",
   "id": "6869b7a8",
   "metadata": {},
   "source": [
    "## Подготовка данных"
   ]
  },
  {
   "cell_type": "markdown",
   "id": "9d04154c",
   "metadata": {},
   "source": [
    "**Цель**\n",
    "осуществить предобработку данных."
   ]
  },
  {
   "cell_type": "markdown",
   "id": "49ed65d2",
   "metadata": {},
   "source": [
    "Подключим библиотеки, необходимы для работы"
   ]
  },
  {
   "cell_type": "code",
   "execution_count": 1,
   "id": "34fe4d87",
   "metadata": {},
   "outputs": [
    {
     "name": "stdout",
     "output_type": "stream",
     "text": [
      "Requirement already satisfied: fast_ml in /opt/conda/lib/python3.9/site-packages (3.68)\n",
      "Note: you may need to restart the kernel to use updated packages.\n"
     ]
    }
   ],
   "source": [
    "pip install fast_ml"
   ]
  },
  {
   "cell_type": "code",
   "execution_count": 2,
   "id": "9bf9ea62",
   "metadata": {},
   "outputs": [
    {
     "name": "stdout",
     "output_type": "stream",
     "text": [
      "Requirement already satisfied: phik in /opt/conda/lib/python3.9/site-packages (0.12.3)\n",
      "Requirement already satisfied: numpy>=1.18.0 in /opt/conda/lib/python3.9/site-packages (from phik) (1.21.1)\n",
      "Requirement already satisfied: joblib>=0.14.1 in /opt/conda/lib/python3.9/site-packages (from phik) (1.1.0)\n",
      "Requirement already satisfied: scipy>=1.5.2 in /opt/conda/lib/python3.9/site-packages (from phik) (1.9.1)\n",
      "Requirement already satisfied: pandas>=0.25.1 in /opt/conda/lib/python3.9/site-packages (from phik) (1.2.4)\n",
      "Requirement already satisfied: matplotlib>=2.2.3 in /opt/conda/lib/python3.9/site-packages (from phik) (3.3.4)\n",
      "Requirement already satisfied: pillow>=6.2.0 in /opt/conda/lib/python3.9/site-packages (from matplotlib>=2.2.3->phik) (8.4.0)\n",
      "Requirement already satisfied: kiwisolver>=1.0.1 in /opt/conda/lib/python3.9/site-packages (from matplotlib>=2.2.3->phik) (1.4.4)\n",
      "Requirement already satisfied: pyparsing!=2.0.4,!=2.1.2,!=2.1.6,>=2.0.3 in /opt/conda/lib/python3.9/site-packages (from matplotlib>=2.2.3->phik) (2.4.7)\n",
      "Requirement already satisfied: cycler>=0.10 in /opt/conda/lib/python3.9/site-packages (from matplotlib>=2.2.3->phik) (0.11.0)\n",
      "Requirement already satisfied: python-dateutil>=2.1 in /opt/conda/lib/python3.9/site-packages (from matplotlib>=2.2.3->phik) (2.8.1)\n",
      "Requirement already satisfied: pytz>=2017.3 in /opt/conda/lib/python3.9/site-packages (from pandas>=0.25.1->phik) (2021.1)\n",
      "Requirement already satisfied: six>=1.5 in /opt/conda/lib/python3.9/site-packages (from python-dateutil>=2.1->matplotlib>=2.2.3->phik) (1.16.0)\n",
      "Note: you may need to restart the kernel to use updated packages.\n"
     ]
    }
   ],
   "source": [
    "pip install phik"
   ]
  },
  {
   "cell_type": "code",
   "execution_count": 3,
   "id": "4d64c07e",
   "metadata": {},
   "outputs": [],
   "source": [
    "#подключим библиотеки\n",
    "import pandas as pd\n",
    "import datetime as dt\n",
    "import matplotlib.pyplot as plt \n",
    "import warnings\n",
    "import seaborn as sns\n",
    "import numpy as np\n",
    "from sklearn.model_selection import train_test_split\n",
    "from sklearn.tree import DecisionTreeClassifier\n",
    "from sklearn.ensemble import RandomForestClassifier \n",
    "from sklearn.linear_model import LogisticRegression\n",
    "from sklearn.metrics import accuracy_score\n",
    "from sklearn.model_selection import GridSearchCV, cross_val_score\n",
    "from sklearn.model_selection import RandomizedSearchCV\n",
    "from sklearn.linear_model import LinearRegression\n",
    "from sklearn.metrics import r2_score\n",
    "from sklearn.metrics import f1_score\n",
    "from sklearn.ensemble import RandomForestRegressor\n",
    "import sklearn.metrics\n",
    "from sklearn.preprocessing import OrdinalEncoder\n",
    "from sklearn.preprocessing import StandardScaler\n",
    "from fast_ml.model_development import train_valid_test_split\n",
    "from sklearn.metrics import roc_auc_score \n",
    "from sklearn.metrics import roc_curve, auc\n",
    "from sklearn.utils import shuffle\n",
    "import phik\n",
    "#отключим тревожность компилятора \n",
    "warnings.simplefilter(\"ignore\")\n",
    "pd.set_option('display.max_colwidth', None)\n",
    "pd.set_option('display.max_columns', None)"
   ]
  },
  {
   "cell_type": "markdown",
   "id": "bc6c52da",
   "metadata": {},
   "source": [
    "Пробуем прочитать предоставленные данные в DataFrame df"
   ]
  },
  {
   "cell_type": "code",
   "execution_count": 4,
   "id": "c77f650c",
   "metadata": {},
   "outputs": [],
   "source": [
    "try:\n",
    "    df = pd.read_csv('/datasets/Churn.csv',sep=',')\n",
    "except:\n",
    "    try:\n",
    "        df = pd.read_csv('Churn.csv',sep=',')\n",
    "    except:\n",
    "        print('Ошибка чтения файла!')"
   ]
  },
  {
   "cell_type": "markdown",
   "id": "dca5bf93",
   "metadata": {},
   "source": [
    "Получим общую информацию о DF"
   ]
  },
  {
   "cell_type": "code",
   "execution_count": 5,
   "id": "c65736c6",
   "metadata": {},
   "outputs": [
    {
     "name": "stdout",
     "output_type": "stream",
     "text": [
      "<class 'pandas.core.frame.DataFrame'>\n",
      "RangeIndex: 10000 entries, 0 to 9999\n",
      "Data columns (total 14 columns):\n",
      " #   Column           Non-Null Count  Dtype  \n",
      "---  ------           --------------  -----  \n",
      " 0   RowNumber        10000 non-null  int64  \n",
      " 1   CustomerId       10000 non-null  int64  \n",
      " 2   Surname          10000 non-null  object \n",
      " 3   CreditScore      10000 non-null  int64  \n",
      " 4   Geography        10000 non-null  object \n",
      " 5   Gender           10000 non-null  object \n",
      " 6   Age              10000 non-null  int64  \n",
      " 7   Tenure           9091 non-null   float64\n",
      " 8   Balance          10000 non-null  float64\n",
      " 9   NumOfProducts    10000 non-null  int64  \n",
      " 10  HasCrCard        10000 non-null  int64  \n",
      " 11  IsActiveMember   10000 non-null  int64  \n",
      " 12  EstimatedSalary  10000 non-null  float64\n",
      " 13  Exited           10000 non-null  int64  \n",
      "dtypes: float64(3), int64(8), object(3)\n",
      "memory usage: 1.1+ MB\n"
     ]
    }
   ],
   "source": [
    "df.info()"
   ]
  },
  {
   "cell_type": "markdown",
   "id": "31e4e512",
   "metadata": {},
   "source": [
    "Ознакомимся с некоторыми данными"
   ]
  },
  {
   "cell_type": "code",
   "execution_count": 6,
   "id": "a9177c03",
   "metadata": {},
   "outputs": [
    {
     "data": {
      "text/html": [
       "<div>\n",
       "<style scoped>\n",
       "    .dataframe tbody tr th:only-of-type {\n",
       "        vertical-align: middle;\n",
       "    }\n",
       "\n",
       "    .dataframe tbody tr th {\n",
       "        vertical-align: top;\n",
       "    }\n",
       "\n",
       "    .dataframe thead th {\n",
       "        text-align: right;\n",
       "    }\n",
       "</style>\n",
       "<table border=\"1\" class=\"dataframe\">\n",
       "  <thead>\n",
       "    <tr style=\"text-align: right;\">\n",
       "      <th></th>\n",
       "      <th>RowNumber</th>\n",
       "      <th>CustomerId</th>\n",
       "      <th>Surname</th>\n",
       "      <th>CreditScore</th>\n",
       "      <th>Geography</th>\n",
       "      <th>Gender</th>\n",
       "      <th>Age</th>\n",
       "      <th>Tenure</th>\n",
       "      <th>Balance</th>\n",
       "      <th>NumOfProducts</th>\n",
       "      <th>HasCrCard</th>\n",
       "      <th>IsActiveMember</th>\n",
       "      <th>EstimatedSalary</th>\n",
       "      <th>Exited</th>\n",
       "    </tr>\n",
       "  </thead>\n",
       "  <tbody>\n",
       "    <tr>\n",
       "      <th>0</th>\n",
       "      <td>1</td>\n",
       "      <td>15634602</td>\n",
       "      <td>Hargrave</td>\n",
       "      <td>619</td>\n",
       "      <td>France</td>\n",
       "      <td>Female</td>\n",
       "      <td>42</td>\n",
       "      <td>2.0</td>\n",
       "      <td>0.00</td>\n",
       "      <td>1</td>\n",
       "      <td>1</td>\n",
       "      <td>1</td>\n",
       "      <td>101348.88</td>\n",
       "      <td>1</td>\n",
       "    </tr>\n",
       "    <tr>\n",
       "      <th>1</th>\n",
       "      <td>2</td>\n",
       "      <td>15647311</td>\n",
       "      <td>Hill</td>\n",
       "      <td>608</td>\n",
       "      <td>Spain</td>\n",
       "      <td>Female</td>\n",
       "      <td>41</td>\n",
       "      <td>1.0</td>\n",
       "      <td>83807.86</td>\n",
       "      <td>1</td>\n",
       "      <td>0</td>\n",
       "      <td>1</td>\n",
       "      <td>112542.58</td>\n",
       "      <td>0</td>\n",
       "    </tr>\n",
       "    <tr>\n",
       "      <th>2</th>\n",
       "      <td>3</td>\n",
       "      <td>15619304</td>\n",
       "      <td>Onio</td>\n",
       "      <td>502</td>\n",
       "      <td>France</td>\n",
       "      <td>Female</td>\n",
       "      <td>42</td>\n",
       "      <td>8.0</td>\n",
       "      <td>159660.80</td>\n",
       "      <td>3</td>\n",
       "      <td>1</td>\n",
       "      <td>0</td>\n",
       "      <td>113931.57</td>\n",
       "      <td>1</td>\n",
       "    </tr>\n",
       "    <tr>\n",
       "      <th>3</th>\n",
       "      <td>4</td>\n",
       "      <td>15701354</td>\n",
       "      <td>Boni</td>\n",
       "      <td>699</td>\n",
       "      <td>France</td>\n",
       "      <td>Female</td>\n",
       "      <td>39</td>\n",
       "      <td>1.0</td>\n",
       "      <td>0.00</td>\n",
       "      <td>2</td>\n",
       "      <td>0</td>\n",
       "      <td>0</td>\n",
       "      <td>93826.63</td>\n",
       "      <td>0</td>\n",
       "    </tr>\n",
       "    <tr>\n",
       "      <th>4</th>\n",
       "      <td>5</td>\n",
       "      <td>15737888</td>\n",
       "      <td>Mitchell</td>\n",
       "      <td>850</td>\n",
       "      <td>Spain</td>\n",
       "      <td>Female</td>\n",
       "      <td>43</td>\n",
       "      <td>2.0</td>\n",
       "      <td>125510.82</td>\n",
       "      <td>1</td>\n",
       "      <td>1</td>\n",
       "      <td>1</td>\n",
       "      <td>79084.10</td>\n",
       "      <td>0</td>\n",
       "    </tr>\n",
       "  </tbody>\n",
       "</table>\n",
       "</div>"
      ],
      "text/plain": [
       "   RowNumber  CustomerId   Surname  CreditScore Geography  Gender  Age  \\\n",
       "0          1    15634602  Hargrave          619    France  Female   42   \n",
       "1          2    15647311      Hill          608     Spain  Female   41   \n",
       "2          3    15619304      Onio          502    France  Female   42   \n",
       "3          4    15701354      Boni          699    France  Female   39   \n",
       "4          5    15737888  Mitchell          850     Spain  Female   43   \n",
       "\n",
       "   Tenure    Balance  NumOfProducts  HasCrCard  IsActiveMember  \\\n",
       "0     2.0       0.00              1          1               1   \n",
       "1     1.0   83807.86              1          0               1   \n",
       "2     8.0  159660.80              3          1               0   \n",
       "3     1.0       0.00              2          0               0   \n",
       "4     2.0  125510.82              1          1               1   \n",
       "\n",
       "   EstimatedSalary  Exited  \n",
       "0        101348.88       1  \n",
       "1        112542.58       0  \n",
       "2        113931.57       1  \n",
       "3         93826.63       0  \n",
       "4         79084.10       0  "
      ]
     },
     "execution_count": 6,
     "metadata": {},
     "output_type": "execute_result"
    }
   ],
   "source": [
    "df.head()"
   ]
  },
  {
   "cell_type": "markdown",
   "id": "fc9976f1",
   "metadata": {},
   "source": [
    "Перед нами данные, содержащие информацию о 10 000 клиентов. \n",
    "\n",
    "Полагаем, что можно удалить столбец RowNumber, поскольку фактически он дублирует индекс.\n",
    "\n",
    "Пропуски наблюдаем только в столбце Tenure.\n",
    "\n",
    "Типы данных у столбцов HasCrCard, IsActiveMember можно было изменить на логический, но для построения модели намбудут нужны численные значения, поэтому оставим их без изменения.\n",
    "\n",
    "Сменим названия столбцов, приведя их к стилю snake_case."
   ]
  },
  {
   "cell_type": "markdown",
   "id": "24c31271",
   "metadata": {},
   "source": [
    "Учитывая значения в столбце Exited, нам надо будет решить задачу **бинарной классификации с учителем**."
   ]
  },
  {
   "cell_type": "markdown",
   "id": "92712552",
   "metadata": {},
   "source": [
    "Удалим столбец RowNumber"
   ]
  },
  {
   "cell_type": "code",
   "execution_count": 7,
   "id": "3f5976e7",
   "metadata": {},
   "outputs": [
    {
     "data": {
      "text/plain": [
       "Index(['CustomerId', 'Surname', 'CreditScore', 'Geography', 'Gender', 'Age',\n",
       "       'Tenure', 'Balance', 'NumOfProducts', 'HasCrCard', 'IsActiveMember',\n",
       "       'EstimatedSalary', 'Exited'],\n",
       "      dtype='object')"
      ]
     },
     "execution_count": 7,
     "metadata": {},
     "output_type": "execute_result"
    }
   ],
   "source": [
    "df = df.drop('RowNumber', axis = 1)\n",
    "df.columns"
   ]
  },
  {
   "cell_type": "markdown",
   "id": "1a4a610e",
   "metadata": {},
   "source": [
    "Переименуем столбцы"
   ]
  },
  {
   "cell_type": "code",
   "execution_count": 8,
   "id": "17d31dc1",
   "metadata": {},
   "outputs": [
    {
     "data": {
      "text/plain": [
       "Index(['customer_id', 'surname', 'credit_score', 'geography', 'gender', 'age',\n",
       "       'tenure', 'balance', 'num_of_products', 'has_cr_card',\n",
       "       'is_active_member', 'estimated_salary', 'exited'],\n",
       "      dtype='object')"
      ]
     },
     "execution_count": 8,
     "metadata": {},
     "output_type": "execute_result"
    }
   ],
   "source": [
    "df.columns= ['customer_id', 'surname', 'credit_score', 'geography', 'gender', 'age',\n",
    "       'tenure', 'balance', 'num_of_products', 'has_cr_card', 'is_active_member',\n",
    "       'estimated_salary', 'exited']\n",
    "df.columns"
   ]
  },
  {
   "cell_type": "markdown",
   "id": "a0140cf9",
   "metadata": {},
   "source": [
    "Проверим на наличие полных дубликатов."
   ]
  },
  {
   "cell_type": "code",
   "execution_count": 9,
   "id": "34b8bb79",
   "metadata": {},
   "outputs": [
    {
     "data": {
      "text/plain": [
       "'Найдено 0 полных дубликатов.'"
      ]
     },
     "execution_count": 9,
     "metadata": {},
     "output_type": "execute_result"
    }
   ],
   "source": [
    "f'Найдено {df.duplicated().sum()} полных дубликатов.'"
   ]
  },
  {
   "cell_type": "code",
   "execution_count": 10,
   "id": "03de86d3",
   "metadata": {},
   "outputs": [
    {
     "data": {
      "text/plain": [
       "'Найдено 0 дубликатов в идентификаторе клиента.'"
      ]
     },
     "execution_count": 10,
     "metadata": {},
     "output_type": "execute_result"
    }
   ],
   "source": [
    "f'Найдено {df.duplicated([\"customer_id\"]).sum()} дубликатов в идентификаторе клиента.'"
   ]
  },
  {
   "cell_type": "markdown",
   "id": "d14c8612",
   "metadata": {},
   "source": [
    "Изучим уникальные значения в столбце tenure."
   ]
  },
  {
   "cell_type": "code",
   "execution_count": 11,
   "id": "5bcdd819",
   "metadata": {},
   "outputs": [
    {
     "data": {
      "text/plain": [
       "array([ 2.,  1.,  8.,  7.,  4.,  6.,  3., 10.,  5.,  9.,  0., nan])"
      ]
     },
     "execution_count": 11,
     "metadata": {},
     "output_type": "execute_result"
    }
   ],
   "source": [
    "df['tenure'].unique()"
   ]
  },
  {
   "cell_type": "markdown",
   "id": "8ec90db4",
   "metadata": {},
   "source": [
    "Содержащиеся данные больше соотвествуют целочисленному типу, но пропуски не дадут нам изменить ТД.\n",
    "\n",
    "Попробуем найти зависимости, которые позволят заполнить пропуски."
   ]
  },
  {
   "cell_type": "code",
   "execution_count": 12,
   "id": "6954697c",
   "metadata": {},
   "outputs": [
    {
     "data": {
      "text/plain": [
       "<AxesSubplot:>"
      ]
     },
     "execution_count": 12,
     "metadata": {},
     "output_type": "execute_result"
    },
    {
     "data": {
      "image/png": "[encoded data removed]",
      "text/plain": [
       "<Figure size 432x288 with 1 Axes>"
      ]
     },
     "metadata": {
      "needs_background": "light"
     },
     "output_type": "display_data"
    }
   ],
   "source": [
    "df['tenure'].hist(bins = 30, range = (0,10))"
   ]
  },
  {
   "cell_type": "code",
   "execution_count": 13,
   "id": "22239d51",
   "metadata": {},
   "outputs": [
    {
     "data": {
      "text/plain": [
       "909"
      ]
     },
     "execution_count": 13,
     "metadata": {},
     "output_type": "execute_result"
    }
   ],
   "source": [
    "df['tenure'].isna().sum()"
   ]
  },
  {
   "cell_type": "markdown",
   "id": "cc086101",
   "metadata": {},
   "source": [
    "Число клиентов в разрезе по годам примерно одинаково, за исключением 10 лет и 0 лет. Количество пропусков вписывается в эти показатели, возможно, данные не указаны у клиентов, которые пользуются услугами банка уже более 10 лет."
   ]
  },
  {
   "cell_type": "code",
   "execution_count": 14,
   "id": "e80a9bcc",
   "metadata": {
    "scrolled": true
   },
   "outputs": [
    {
     "data": {
      "text/html": [
       "<div>\n",
       "<style scoped>\n",
       "    .dataframe tbody tr th:only-of-type {\n",
       "        vertical-align: middle;\n",
       "    }\n",
       "\n",
       "    .dataframe tbody tr th {\n",
       "        vertical-align: top;\n",
       "    }\n",
       "\n",
       "    .dataframe thead th {\n",
       "        text-align: right;\n",
       "    }\n",
       "</style>\n",
       "<table border=\"1\" class=\"dataframe\">\n",
       "  <thead>\n",
       "    <tr style=\"text-align: right;\">\n",
       "      <th></th>\n",
       "      <th>customer_id</th>\n",
       "      <th>credit_score</th>\n",
       "      <th>age</th>\n",
       "      <th>tenure</th>\n",
       "      <th>balance</th>\n",
       "      <th>num_of_products</th>\n",
       "      <th>has_cr_card</th>\n",
       "      <th>is_active_member</th>\n",
       "      <th>estimated_salary</th>\n",
       "      <th>exited</th>\n",
       "    </tr>\n",
       "  </thead>\n",
       "  <tbody>\n",
       "    <tr>\n",
       "      <th>customer_id</th>\n",
       "      <td>1.000000</td>\n",
       "      <td>0.005308</td>\n",
       "      <td>0.009497</td>\n",
       "      <td>-0.021418</td>\n",
       "      <td>-0.012419</td>\n",
       "      <td>0.016972</td>\n",
       "      <td>-0.014025</td>\n",
       "      <td>0.001665</td>\n",
       "      <td>0.015271</td>\n",
       "      <td>-0.006248</td>\n",
       "    </tr>\n",
       "    <tr>\n",
       "      <th>credit_score</th>\n",
       "      <td>0.005308</td>\n",
       "      <td>1.000000</td>\n",
       "      <td>-0.003965</td>\n",
       "      <td>-0.000062</td>\n",
       "      <td>0.006268</td>\n",
       "      <td>0.012238</td>\n",
       "      <td>-0.005458</td>\n",
       "      <td>0.025651</td>\n",
       "      <td>-0.001384</td>\n",
       "      <td>-0.027094</td>\n",
       "    </tr>\n",
       "    <tr>\n",
       "      <th>age</th>\n",
       "      <td>0.009497</td>\n",
       "      <td>-0.003965</td>\n",
       "      <td>1.000000</td>\n",
       "      <td>-0.013134</td>\n",
       "      <td>0.028308</td>\n",
       "      <td>-0.030680</td>\n",
       "      <td>-0.011721</td>\n",
       "      <td>0.085472</td>\n",
       "      <td>-0.007201</td>\n",
       "      <td>0.285323</td>\n",
       "    </tr>\n",
       "    <tr>\n",
       "      <th>tenure</th>\n",
       "      <td>-0.021418</td>\n",
       "      <td>-0.000062</td>\n",
       "      <td>-0.013134</td>\n",
       "      <td>1.000000</td>\n",
       "      <td>-0.007911</td>\n",
       "      <td>0.011979</td>\n",
       "      <td>0.027232</td>\n",
       "      <td>-0.032178</td>\n",
       "      <td>0.010520</td>\n",
       "      <td>-0.016761</td>\n",
       "    </tr>\n",
       "    <tr>\n",
       "      <th>balance</th>\n",
       "      <td>-0.012419</td>\n",
       "      <td>0.006268</td>\n",
       "      <td>0.028308</td>\n",
       "      <td>-0.007911</td>\n",
       "      <td>1.000000</td>\n",
       "      <td>-0.304180</td>\n",
       "      <td>-0.014858</td>\n",
       "      <td>-0.010084</td>\n",
       "      <td>0.012797</td>\n",
       "      <td>0.118533</td>\n",
       "    </tr>\n",
       "    <tr>\n",
       "      <th>num_of_products</th>\n",
       "      <td>0.016972</td>\n",
       "      <td>0.012238</td>\n",
       "      <td>-0.030680</td>\n",
       "      <td>0.011979</td>\n",
       "      <td>-0.304180</td>\n",
       "      <td>1.000000</td>\n",
       "      <td>0.003183</td>\n",
       "      <td>0.009612</td>\n",
       "      <td>0.014204</td>\n",
       "      <td>-0.047820</td>\n",
       "    </tr>\n",
       "    <tr>\n",
       "      <th>has_cr_card</th>\n",
       "      <td>-0.014025</td>\n",
       "      <td>-0.005458</td>\n",
       "      <td>-0.011721</td>\n",
       "      <td>0.027232</td>\n",
       "      <td>-0.014858</td>\n",
       "      <td>0.003183</td>\n",
       "      <td>1.000000</td>\n",
       "      <td>-0.011866</td>\n",
       "      <td>-0.009933</td>\n",
       "      <td>-0.007138</td>\n",
       "    </tr>\n",
       "    <tr>\n",
       "      <th>is_active_member</th>\n",
       "      <td>0.001665</td>\n",
       "      <td>0.025651</td>\n",
       "      <td>0.085472</td>\n",
       "      <td>-0.032178</td>\n",
       "      <td>-0.010084</td>\n",
       "      <td>0.009612</td>\n",
       "      <td>-0.011866</td>\n",
       "      <td>1.000000</td>\n",
       "      <td>-0.011421</td>\n",
       "      <td>-0.156128</td>\n",
       "    </tr>\n",
       "    <tr>\n",
       "      <th>estimated_salary</th>\n",
       "      <td>0.015271</td>\n",
       "      <td>-0.001384</td>\n",
       "      <td>-0.007201</td>\n",
       "      <td>0.010520</td>\n",
       "      <td>0.012797</td>\n",
       "      <td>0.014204</td>\n",
       "      <td>-0.009933</td>\n",
       "      <td>-0.011421</td>\n",
       "      <td>1.000000</td>\n",
       "      <td>0.012097</td>\n",
       "    </tr>\n",
       "    <tr>\n",
       "      <th>exited</th>\n",
       "      <td>-0.006248</td>\n",
       "      <td>-0.027094</td>\n",
       "      <td>0.285323</td>\n",
       "      <td>-0.016761</td>\n",
       "      <td>0.118533</td>\n",
       "      <td>-0.047820</td>\n",
       "      <td>-0.007138</td>\n",
       "      <td>-0.156128</td>\n",
       "      <td>0.012097</td>\n",
       "      <td>1.000000</td>\n",
       "    </tr>\n",
       "  </tbody>\n",
       "</table>\n",
       "</div>"
      ],
      "text/plain": [
       "                  customer_id  credit_score       age    tenure   balance  \\\n",
       "customer_id          1.000000      0.005308  0.009497 -0.021418 -0.012419   \n",
       "credit_score         0.005308      1.000000 -0.003965 -0.000062  0.006268   \n",
       "age                  0.009497     -0.003965  1.000000 -0.013134  0.028308   \n",
       "tenure              -0.021418     -0.000062 -0.013134  1.000000 -0.007911   \n",
       "balance             -0.012419      0.006268  0.028308 -0.007911  1.000000   \n",
       "num_of_products      0.016972      0.012238 -0.030680  0.011979 -0.304180   \n",
       "has_cr_card         -0.014025     -0.005458 -0.011721  0.027232 -0.014858   \n",
       "is_active_member     0.001665      0.025651  0.085472 -0.032178 -0.010084   \n",
       "estimated_salary     0.015271     -0.001384 -0.007201  0.010520  0.012797   \n",
       "exited              -0.006248     -0.027094  0.285323 -0.016761  0.118533   \n",
       "\n",
       "                  num_of_products  has_cr_card  is_active_member  \\\n",
       "customer_id              0.016972    -0.014025          0.001665   \n",
       "credit_score             0.012238    -0.005458          0.025651   \n",
       "age                     -0.030680    -0.011721          0.085472   \n",
       "tenure                   0.011979     0.027232         -0.032178   \n",
       "balance                 -0.304180    -0.014858         -0.010084   \n",
       "num_of_products          1.000000     0.003183          0.009612   \n",
       "has_cr_card              0.003183     1.000000         -0.011866   \n",
       "is_active_member         0.009612    -0.011866          1.000000   \n",
       "estimated_salary         0.014204    -0.009933         -0.011421   \n",
       "exited                  -0.047820    -0.007138         -0.156128   \n",
       "\n",
       "                  estimated_salary    exited  \n",
       "customer_id               0.015271 -0.006248  \n",
       "credit_score             -0.001384 -0.027094  \n",
       "age                      -0.007201  0.285323  \n",
       "tenure                    0.010520 -0.016761  \n",
       "balance                   0.012797  0.118533  \n",
       "num_of_products           0.014204 -0.047820  \n",
       "has_cr_card              -0.009933 -0.007138  \n",
       "is_active_member         -0.011421 -0.156128  \n",
       "estimated_salary          1.000000  0.012097  \n",
       "exited                    0.012097  1.000000  "
      ]
     },
     "execution_count": 14,
     "metadata": {},
     "output_type": "execute_result"
    }
   ],
   "source": [
    "df.corr()"
   ]
  },
  {
   "cell_type": "markdown",
   "id": "de789d7f",
   "metadata": {},
   "source": [
    "Ярко выраженной корреляции между признаком tenure и остальными не выявлено.\n",
    "\n",
    "Проанализируем остальные признаки и позже заполним пропуски в tenure."
   ]
  },
  {
   "cell_type": "markdown",
   "id": "490d2923",
   "metadata": {},
   "source": [
    "Проанализируем числовые данные."
   ]
  },
  {
   "cell_type": "code",
   "execution_count": 15,
   "id": "9f7c89fe",
   "metadata": {},
   "outputs": [
    {
     "data": {
      "text/html": [
       "<div>\n",
       "<style scoped>\n",
       "    .dataframe tbody tr th:only-of-type {\n",
       "        vertical-align: middle;\n",
       "    }\n",
       "\n",
       "    .dataframe tbody tr th {\n",
       "        vertical-align: top;\n",
       "    }\n",
       "\n",
       "    .dataframe thead th {\n",
       "        text-align: right;\n",
       "    }\n",
       "</style>\n",
       "<table border=\"1\" class=\"dataframe\">\n",
       "  <thead>\n",
       "    <tr style=\"text-align: right;\">\n",
       "      <th></th>\n",
       "      <th>customer_id</th>\n",
       "      <th>credit_score</th>\n",
       "      <th>age</th>\n",
       "      <th>tenure</th>\n",
       "      <th>balance</th>\n",
       "      <th>num_of_products</th>\n",
       "      <th>has_cr_card</th>\n",
       "      <th>is_active_member</th>\n",
       "      <th>estimated_salary</th>\n",
       "      <th>exited</th>\n",
       "    </tr>\n",
       "  </thead>\n",
       "  <tbody>\n",
       "    <tr>\n",
       "      <th>count</th>\n",
       "      <td>1.000000e+04</td>\n",
       "      <td>10000.000000</td>\n",
       "      <td>10000.000000</td>\n",
       "      <td>9091.000000</td>\n",
       "      <td>10000.000000</td>\n",
       "      <td>10000.000000</td>\n",
       "      <td>10000.00000</td>\n",
       "      <td>10000.000000</td>\n",
       "      <td>10000.000000</td>\n",
       "      <td>10000.000000</td>\n",
       "    </tr>\n",
       "    <tr>\n",
       "      <th>mean</th>\n",
       "      <td>1.569094e+07</td>\n",
       "      <td>650.528800</td>\n",
       "      <td>38.921800</td>\n",
       "      <td>4.997690</td>\n",
       "      <td>76485.889288</td>\n",
       "      <td>1.530200</td>\n",
       "      <td>0.70550</td>\n",
       "      <td>0.515100</td>\n",
       "      <td>100090.239881</td>\n",
       "      <td>0.203700</td>\n",
       "    </tr>\n",
       "    <tr>\n",
       "      <th>std</th>\n",
       "      <td>7.193619e+04</td>\n",
       "      <td>96.653299</td>\n",
       "      <td>10.487806</td>\n",
       "      <td>2.894723</td>\n",
       "      <td>62397.405202</td>\n",
       "      <td>0.581654</td>\n",
       "      <td>0.45584</td>\n",
       "      <td>0.499797</td>\n",
       "      <td>57510.492818</td>\n",
       "      <td>0.402769</td>\n",
       "    </tr>\n",
       "    <tr>\n",
       "      <th>min</th>\n",
       "      <td>1.556570e+07</td>\n",
       "      <td>350.000000</td>\n",
       "      <td>18.000000</td>\n",
       "      <td>0.000000</td>\n",
       "      <td>0.000000</td>\n",
       "      <td>1.000000</td>\n",
       "      <td>0.00000</td>\n",
       "      <td>0.000000</td>\n",
       "      <td>11.580000</td>\n",
       "      <td>0.000000</td>\n",
       "    </tr>\n",
       "    <tr>\n",
       "      <th>25%</th>\n",
       "      <td>1.562853e+07</td>\n",
       "      <td>584.000000</td>\n",
       "      <td>32.000000</td>\n",
       "      <td>2.000000</td>\n",
       "      <td>0.000000</td>\n",
       "      <td>1.000000</td>\n",
       "      <td>0.00000</td>\n",
       "      <td>0.000000</td>\n",
       "      <td>51002.110000</td>\n",
       "      <td>0.000000</td>\n",
       "    </tr>\n",
       "    <tr>\n",
       "      <th>50%</th>\n",
       "      <td>1.569074e+07</td>\n",
       "      <td>652.000000</td>\n",
       "      <td>37.000000</td>\n",
       "      <td>5.000000</td>\n",
       "      <td>97198.540000</td>\n",
       "      <td>1.000000</td>\n",
       "      <td>1.00000</td>\n",
       "      <td>1.000000</td>\n",
       "      <td>100193.915000</td>\n",
       "      <td>0.000000</td>\n",
       "    </tr>\n",
       "    <tr>\n",
       "      <th>75%</th>\n",
       "      <td>1.575323e+07</td>\n",
       "      <td>718.000000</td>\n",
       "      <td>44.000000</td>\n",
       "      <td>7.000000</td>\n",
       "      <td>127644.240000</td>\n",
       "      <td>2.000000</td>\n",
       "      <td>1.00000</td>\n",
       "      <td>1.000000</td>\n",
       "      <td>149388.247500</td>\n",
       "      <td>0.000000</td>\n",
       "    </tr>\n",
       "    <tr>\n",
       "      <th>max</th>\n",
       "      <td>1.581569e+07</td>\n",
       "      <td>850.000000</td>\n",
       "      <td>92.000000</td>\n",
       "      <td>10.000000</td>\n",
       "      <td>250898.090000</td>\n",
       "      <td>4.000000</td>\n",
       "      <td>1.00000</td>\n",
       "      <td>1.000000</td>\n",
       "      <td>199992.480000</td>\n",
       "      <td>1.000000</td>\n",
       "    </tr>\n",
       "  </tbody>\n",
       "</table>\n",
       "</div>"
      ],
      "text/plain": [
       "        customer_id  credit_score           age       tenure        balance  \\\n",
       "count  1.000000e+04  10000.000000  10000.000000  9091.000000   10000.000000   \n",
       "mean   1.569094e+07    650.528800     38.921800     4.997690   76485.889288   \n",
       "std    7.193619e+04     96.653299     10.487806     2.894723   62397.405202   \n",
       "min    1.556570e+07    350.000000     18.000000     0.000000       0.000000   \n",
       "25%    1.562853e+07    584.000000     32.000000     2.000000       0.000000   \n",
       "50%    1.569074e+07    652.000000     37.000000     5.000000   97198.540000   \n",
       "75%    1.575323e+07    718.000000     44.000000     7.000000  127644.240000   \n",
       "max    1.581569e+07    850.000000     92.000000    10.000000  250898.090000   \n",
       "\n",
       "       num_of_products  has_cr_card  is_active_member  estimated_salary  \\\n",
       "count     10000.000000  10000.00000      10000.000000      10000.000000   \n",
       "mean          1.530200      0.70550          0.515100     100090.239881   \n",
       "std           0.581654      0.45584          0.499797      57510.492818   \n",
       "min           1.000000      0.00000          0.000000         11.580000   \n",
       "25%           1.000000      0.00000          0.000000      51002.110000   \n",
       "50%           1.000000      1.00000          1.000000     100193.915000   \n",
       "75%           2.000000      1.00000          1.000000     149388.247500   \n",
       "max           4.000000      1.00000          1.000000     199992.480000   \n",
       "\n",
       "             exited  \n",
       "count  10000.000000  \n",
       "mean       0.203700  \n",
       "std        0.402769  \n",
       "min        0.000000  \n",
       "25%        0.000000  \n",
       "50%        0.000000  \n",
       "75%        0.000000  \n",
       "max        1.000000  "
      ]
     },
     "execution_count": 15,
     "metadata": {},
     "output_type": "execute_result"
    }
   ],
   "source": [
    "df.describe()"
   ]
  },
  {
   "cell_type": "markdown",
   "id": "41480869",
   "metadata": {},
   "source": [
    "Явных аномлий не найдено. Возраст в 92 года вполне может быть, минимальный  равен 18, что соответсвует закону РФ.\n",
    "\n",
    "В целевом признаке данные явно не сбалансированы."
   ]
  },
  {
   "cell_type": "markdown",
   "id": "ceaec0c7",
   "metadata": {},
   "source": [
    "Исследуем категориальные признаки."
   ]
  },
  {
   "cell_type": "code",
   "execution_count": 16,
   "id": "e0836856",
   "metadata": {},
   "outputs": [
    {
     "data": {
      "image/png": "[encoded data removed]",
      "text/plain": [
       "<Figure size 432x288 with 1 Axes>"
      ]
     },
     "metadata": {
      "needs_background": "light"
     },
     "output_type": "display_data"
    }
   ],
   "source": [
    "score_counts = df.geography.value_counts()\n",
    "sns.barplot(x = score_counts.index, y = score_counts.values)\n",
    "plt.title('Распределение данных по категориям')\n",
    "plt.ylabel('Количество наблюдений в категории')\n",
    "plt.xlabel('Категории');"
   ]
  },
  {
   "cell_type": "code",
   "execution_count": 17,
   "id": "631f72df",
   "metadata": {},
   "outputs": [
    {
     "data": {
      "image/png": "[encoded data removed]",
      "text/plain": [
       "<Figure size 432x288 with 1 Axes>"
      ]
     },
     "metadata": {
      "needs_background": "light"
     },
     "output_type": "display_data"
    }
   ],
   "source": [
    "score_counts = df.gender.value_counts()\n",
    "sns.barplot(x = score_counts.index, y = score_counts.values)\n",
    "plt.title('Распределение данных по категориям')\n",
    "plt.ylabel('Количество наблюдений в категории')\n",
    "plt.xlabel('Категории');"
   ]
  },
  {
   "cell_type": "code",
   "execution_count": 18,
   "id": "e6c22a46",
   "metadata": {},
   "outputs": [
    {
     "data": {
      "text/plain": [
       "array(['Abazu', 'Abbie', 'Abbott', ..., 'Zuev', 'Zuyev', 'Zuyeva'],\n",
       "      dtype=object)"
      ]
     },
     "execution_count": 18,
     "metadata": {},
     "output_type": "execute_result"
    }
   ],
   "source": [
    "df.sort_values(by='surname', ascending=True)['surname'].unique()"
   ]
  },
  {
   "cell_type": "markdown",
   "id": "419fae7f",
   "metadata": {},
   "source": [
    "В наименовании фамилий лишних пробелов не выявлено."
   ]
  },
  {
   "cell_type": "code",
   "execution_count": 19,
   "id": "df398cf2",
   "metadata": {},
   "outputs": [
    {
     "data": {
      "text/plain": [
       "array(['France', 'Germany', 'Spain'], dtype=object)"
      ]
     },
     "execution_count": 19,
     "metadata": {},
     "output_type": "execute_result"
    }
   ],
   "source": [
    "df.sort_values(by='geography', ascending=True)['geography'].unique()"
   ]
  },
  {
   "cell_type": "markdown",
   "id": "e44e3197",
   "metadata": {},
   "source": [
    "В названиях стран лишних пробелов не выявлено."
   ]
  },
  {
   "cell_type": "code",
   "execution_count": 20,
   "id": "f93b706e",
   "metadata": {},
   "outputs": [
    {
     "data": {
      "text/plain": [
       "array(['Female', 'Male'], dtype=object)"
      ]
     },
     "execution_count": 20,
     "metadata": {},
     "output_type": "execute_result"
    }
   ],
   "source": [
    "df['gender'].unique()"
   ]
  },
  {
   "cell_type": "markdown",
   "id": "f476e804",
   "metadata": {},
   "source": [
    "В признаке пол данные без аномалий."
   ]
  },
  {
   "cell_type": "code",
   "execution_count": 21,
   "id": "602ba429",
   "metadata": {},
   "outputs": [
    {
     "data": {
      "text/plain": [
       "array([1, 0])"
      ]
     },
     "execution_count": 21,
     "metadata": {},
     "output_type": "execute_result"
    }
   ],
   "source": [
    "df['has_cr_card'].unique()"
   ]
  },
  {
   "cell_type": "markdown",
   "id": "738261d8",
   "metadata": {},
   "source": [
    "Данные о наличии/отсутствии кредитной карты без аномалий. "
   ]
  },
  {
   "cell_type": "code",
   "execution_count": 22,
   "id": "42acb693",
   "metadata": {},
   "outputs": [
    {
     "data": {
      "text/plain": [
       "array([1, 0])"
      ]
     },
     "execution_count": 22,
     "metadata": {},
     "output_type": "execute_result"
    }
   ],
   "source": [
    "df['is_active_member'].unique()"
   ]
  },
  {
   "cell_type": "markdown",
   "id": "dc13315a",
   "metadata": {},
   "source": [
    "Данные об активности клиента без аномалий. "
   ]
  },
  {
   "cell_type": "markdown",
   "id": "e1623d51",
   "metadata": {},
   "source": [
    "Построим графики для наглядного анализа имеющихся данных."
   ]
  },
  {
   "cell_type": "code",
   "execution_count": 23,
   "id": "367a09d1",
   "metadata": {},
   "outputs": [],
   "source": [
    "numeric = ['credit_score', 'tenure', 'balance','age','num_of_products','estimated_salary', 'has_cr_card','is_active_member','exited']"
   ]
  },
  {
   "cell_type": "code",
   "execution_count": 24,
   "id": "b0753e4a",
   "metadata": {},
   "outputs": [
    {
     "data": {
      "image/png": "[encoded data removed]",
      "text/plain": [
       "<Figure size 1152x1152 with 9 Axes>"
      ]
     },
     "metadata": {
      "needs_background": "light"
     },
     "output_type": "display_data"
    }
   ],
   "source": [
    "df[numeric].hist(figsize=(16, 16), alpha=0.7, bins=100)\n",
    "plt.show()"
   ]
  },
  {
   "cell_type": "markdown",
   "id": "8ba6539a",
   "metadata": {},
   "source": [
    "График наглядно демонстрирует несбалансированность целевого признака exited.\n",
    "\n",
    "Большинство клиентов используют 1-2 продукта банка.\n",
    "\n",
    "Основные клиенты банка - люди в возрасте 30-40 лет.\n",
    "\n",
    "Большая часть клиентов имеет кредитный рейтинг в диапазоне 600-700.\n",
    "\n",
    "Порядка 35% не держит деньги на балансе счета.\n",
    "\n",
    "Активно пользуется сервисами банка примерно половина клиентов."
   ]
  },
  {
   "cell_type": "markdown",
   "id": "309073e3",
   "metadata": {},
   "source": [
    "Визуализируем корреляцию."
   ]
  },
  {
   "cell_type": "code",
   "execution_count": 26,
   "id": "f09f38a4",
   "metadata": {},
   "outputs": [
    {
     "name": "stdout",
     "output_type": "stream",
     "text": [
      "interval columns not set, guessing: ['customer_id', 'credit_score', 'age', 'tenure', 'balance', 'num_of_products', 'has_cr_card', 'is_active_member', 'estimated_salary', 'exited']\n"
     ]
    },
    {
     "data": {
      "text/html": [
       "<style  type=\"text/css\" >\n",
       "#T_384d7_row0_col0,#T_384d7_row1_col1,#T_384d7_row2_col2,#T_384d7_row3_col3,#T_384d7_row4_col4,#T_384d7_row5_col5,#T_384d7_row6_col6,#T_384d7_row7_col7,#T_384d7_row8_col8,#T_384d7_row9_col9,#T_384d7_row10_col10,#T_384d7_row11_col11,#T_384d7_row12_col12{\n",
       "            background-color:  #b40426;\n",
       "            color:  #f1f1f1;\n",
       "        }#T_384d7_row0_col1,#T_384d7_row0_col3,#T_384d7_row0_col4,#T_384d7_row0_col7,#T_384d7_row0_col9,#T_384d7_row0_col11,#T_384d7_row1_col0,#T_384d7_row1_col3,#T_384d7_row1_col9,#T_384d7_row1_col10,#T_384d7_row1_col12,#T_384d7_row2_col4,#T_384d7_row2_col5,#T_384d7_row2_col6,#T_384d7_row2_col7,#T_384d7_row2_col9,#T_384d7_row3_col0,#T_384d7_row3_col1,#T_384d7_row3_col6,#T_384d7_row3_col9,#T_384d7_row4_col0,#T_384d7_row4_col2,#T_384d7_row4_col7,#T_384d7_row4_col9,#T_384d7_row5_col2,#T_384d7_row6_col2,#T_384d7_row6_col3,#T_384d7_row6_col11,#T_384d7_row7_col0,#T_384d7_row7_col2,#T_384d7_row7_col4,#T_384d7_row7_col11,#T_384d7_row8_col9,#T_384d7_row9_col0,#T_384d7_row9_col1,#T_384d7_row9_col2,#T_384d7_row9_col3,#T_384d7_row9_col4,#T_384d7_row9_col8,#T_384d7_row9_col11,#T_384d7_row9_col12,#T_384d7_row10_col1,#T_384d7_row11_col0,#T_384d7_row11_col6,#T_384d7_row11_col7,#T_384d7_row11_col9,#T_384d7_row11_col12,#T_384d7_row12_col1,#T_384d7_row12_col9,#T_384d7_row12_col11{\n",
       "            background-color:  #3b4cc0;\n",
       "            color:  #f1f1f1;\n",
       "        }#T_384d7_row0_col2,#T_384d7_row2_col0,#T_384d7_row5_col9,#T_384d7_row7_col10,#T_384d7_row9_col5,#T_384d7_row10_col7{\n",
       "            background-color:  #3f53c6;\n",
       "            color:  #f1f1f1;\n",
       "        }#T_384d7_row0_col5,#T_384d7_row1_col4,#T_384d7_row4_col1,#T_384d7_row5_col0{\n",
       "            background-color:  #465ecf;\n",
       "            color:  #f1f1f1;\n",
       "        }#T_384d7_row0_col6,#T_384d7_row0_col8,#T_384d7_row3_col10,#T_384d7_row6_col0,#T_384d7_row8_col0,#T_384d7_row9_col10,#T_384d7_row10_col3,#T_384d7_row10_col9{\n",
       "            background-color:  #3d50c3;\n",
       "            color:  #f1f1f1;\n",
       "        }#T_384d7_row0_col10,#T_384d7_row3_col4,#T_384d7_row4_col3,#T_384d7_row10_col0{\n",
       "            background-color:  #3e51c5;\n",
       "            color:  #f1f1f1;\n",
       "        }#T_384d7_row0_col12,#T_384d7_row3_col11,#T_384d7_row4_col6,#T_384d7_row4_col11,#T_384d7_row6_col4,#T_384d7_row11_col3,#T_384d7_row11_col4,#T_384d7_row12_col0{\n",
       "            background-color:  #4358cb;\n",
       "            color:  #f1f1f1;\n",
       "        }#T_384d7_row1_col2,#T_384d7_row2_col1{\n",
       "            background-color:  #8badfd;\n",
       "            color:  #000000;\n",
       "        }#T_384d7_row1_col5,#T_384d7_row5_col1{\n",
       "            background-color:  #aac7fd;\n",
       "            color:  #000000;\n",
       "        }#T_384d7_row1_col6,#T_384d7_row6_col1,#T_384d7_row6_col12,#T_384d7_row12_col6{\n",
       "            background-color:  #4055c8;\n",
       "            color:  #f1f1f1;\n",
       "        }#T_384d7_row1_col7,#T_384d7_row7_col1{\n",
       "            background-color:  #d8dce2;\n",
       "            color:  #000000;\n",
       "        }#T_384d7_row1_col8,#T_384d7_row8_col1{\n",
       "            background-color:  #7b9ff9;\n",
       "            color:  #000000;\n",
       "        }#T_384d7_row1_col11,#T_384d7_row3_col5,#T_384d7_row5_col3,#T_384d7_row11_col1{\n",
       "            background-color:  #5470de;\n",
       "            color:  #000000;\n",
       "        }#T_384d7_row2_col3,#T_384d7_row2_col10,#T_384d7_row3_col2,#T_384d7_row5_col7,#T_384d7_row7_col5,#T_384d7_row10_col2{\n",
       "            background-color:  #455cce;\n",
       "            color:  #f1f1f1;\n",
       "        }#T_384d7_row2_col8,#T_384d7_row2_col11,#T_384d7_row4_col5,#T_384d7_row4_col10,#T_384d7_row5_col4,#T_384d7_row6_col9,#T_384d7_row8_col2,#T_384d7_row8_col11,#T_384d7_row9_col6,#T_384d7_row10_col4,#T_384d7_row10_col11,#T_384d7_row11_col2,#T_384d7_row11_col8,#T_384d7_row11_col10{\n",
       "            background-color:  #445acc;\n",
       "            color:  #f1f1f1;\n",
       "        }#T_384d7_row2_col12,#T_384d7_row12_col2{\n",
       "            background-color:  #5875e1;\n",
       "            color:  #000000;\n",
       "        }#T_384d7_row3_col7,#T_384d7_row7_col3{\n",
       "            background-color:  #d3dbe7;\n",
       "            color:  #000000;\n",
       "        }#T_384d7_row3_col8,#T_384d7_row7_col9,#T_384d7_row8_col3,#T_384d7_row9_col7{\n",
       "            background-color:  #4961d2;\n",
       "            color:  #f1f1f1;\n",
       "        }#T_384d7_row3_col12,#T_384d7_row12_col3{\n",
       "            background-color:  #5a78e4;\n",
       "            color:  #000000;\n",
       "        }#T_384d7_row4_col8,#T_384d7_row6_col7,#T_384d7_row7_col6,#T_384d7_row8_col4{\n",
       "            background-color:  #4e68d8;\n",
       "            color:  #000000;\n",
       "        }#T_384d7_row4_col12,#T_384d7_row12_col4{\n",
       "            background-color:  #6f92f3;\n",
       "            color:  #000000;\n",
       "        }#T_384d7_row5_col6,#T_384d7_row6_col5{\n",
       "            background-color:  #485fd1;\n",
       "            color:  #f1f1f1;\n",
       "        }#T_384d7_row5_col8,#T_384d7_row8_col5{\n",
       "            background-color:  #688aef;\n",
       "            color:  #000000;\n",
       "        }#T_384d7_row5_col10,#T_384d7_row10_col5{\n",
       "            background-color:  #7699f6;\n",
       "            color:  #000000;\n",
       "        }#T_384d7_row5_col11,#T_384d7_row11_col5{\n",
       "            background-color:  #4a63d3;\n",
       "            color:  #f1f1f1;\n",
       "        }#T_384d7_row5_col12,#T_384d7_row12_col5{\n",
       "            background-color:  #d9dce1;\n",
       "            color:  #000000;\n",
       "        }#T_384d7_row6_col8,#T_384d7_row8_col6{\n",
       "            background-color:  #4c66d6;\n",
       "            color:  #000000;\n",
       "        }#T_384d7_row6_col10,#T_384d7_row10_col6{\n",
       "            background-color:  #4257c9;\n",
       "            color:  #f1f1f1;\n",
       "        }#T_384d7_row7_col8,#T_384d7_row8_col7{\n",
       "            background-color:  #b7cff9;\n",
       "            color:  #000000;\n",
       "        }#T_384d7_row7_col12,#T_384d7_row12_col7{\n",
       "            background-color:  #7597f6;\n",
       "            color:  #000000;\n",
       "        }#T_384d7_row8_col10,#T_384d7_row10_col8{\n",
       "            background-color:  #4b64d5;\n",
       "            color:  #f1f1f1;\n",
       "        }#T_384d7_row8_col12,#T_384d7_row12_col8{\n",
       "            background-color:  #ecd3c5;\n",
       "            color:  #000000;\n",
       "        }#T_384d7_row10_col12,#T_384d7_row12_col10{\n",
       "            background-color:  #89acfd;\n",
       "            color:  #000000;\n",
       "        }</style><table id=\"T_384d7_\" ><thead>    <tr>        <th class=\"blank level0\" ></th>        <th class=\"col_heading level0 col0\" >customer_id</th>        <th class=\"col_heading level0 col1\" >surname</th>        <th class=\"col_heading level0 col2\" >credit_score</th>        <th class=\"col_heading level0 col3\" >geography</th>        <th class=\"col_heading level0 col4\" >gender</th>        <th class=\"col_heading level0 col5\" >age</th>        <th class=\"col_heading level0 col6\" >tenure</th>        <th class=\"col_heading level0 col7\" >balance</th>        <th class=\"col_heading level0 col8\" >num_of_products</th>        <th class=\"col_heading level0 col9\" >has_cr_card</th>        <th class=\"col_heading level0 col10\" >is_active_member</th>        <th class=\"col_heading level0 col11\" >estimated_salary</th>        <th class=\"col_heading level0 col12\" >exited</th>    </tr></thead><tbody>\n",
       "                <tr>\n",
       "                        <th id=\"T_384d7_level0_row0\" class=\"row_heading level0 row0\" >customer_id</th>\n",
       "                        <td id=\"T_384d7_row0_col0\" class=\"data row0 col0\" >1.000000</td>\n",
       "                        <td id=\"T_384d7_row0_col1\" class=\"data row0 col1\" >0.000000</td>\n",
       "                        <td id=\"T_384d7_row0_col2\" class=\"data row0 col2\" >0.018946</td>\n",
       "                        <td id=\"T_384d7_row0_col3\" class=\"data row0 col3\" >0.000000</td>\n",
       "                        <td id=\"T_384d7_row0_col4\" class=\"data row0 col4\" >0.000000</td>\n",
       "                        <td id=\"T_384d7_row0_col5\" class=\"data row0 col5\" >0.042049</td>\n",
       "                        <td id=\"T_384d7_row0_col6\" class=\"data row0 col6\" >0.009340</td>\n",
       "                        <td id=\"T_384d7_row0_col7\" class=\"data row0 col7\" >0.000000</td>\n",
       "                        <td id=\"T_384d7_row0_col8\" class=\"data row0 col8\" >0.009637</td>\n",
       "                        <td id=\"T_384d7_row0_col9\" class=\"data row0 col9\" >0.000000</td>\n",
       "                        <td id=\"T_384d7_row0_col10\" class=\"data row0 col10\" >0.014253</td>\n",
       "                        <td id=\"T_384d7_row0_col11\" class=\"data row0 col11\" >0.000000</td>\n",
       "                        <td id=\"T_384d7_row0_col12\" class=\"data row0 col12\" >0.029595</td>\n",
       "            </tr>\n",
       "            <tr>\n",
       "                        <th id=\"T_384d7_level0_row1\" class=\"row_heading level0 row1\" >surname</th>\n",
       "                        <td id=\"T_384d7_row1_col0\" class=\"data row1 col0\" >0.000000</td>\n",
       "                        <td id=\"T_384d7_row1_col1\" class=\"data row1 col1\" >1.000000</td>\n",
       "                        <td id=\"T_384d7_row1_col2\" class=\"data row1 col2\" >0.242957</td>\n",
       "                        <td id=\"T_384d7_row1_col3\" class=\"data row1 col3\" >0.001476</td>\n",
       "                        <td id=\"T_384d7_row1_col4\" class=\"data row1 col4\" >0.040711</td>\n",
       "                        <td id=\"T_384d7_row1_col5\" class=\"data row1 col5\" >0.333753</td>\n",
       "                        <td id=\"T_384d7_row1_col6\" class=\"data row1 col6\" >0.020624</td>\n",
       "                        <td id=\"T_384d7_row1_col7\" class=\"data row1 col7\" >0.483668</td>\n",
       "                        <td id=\"T_384d7_row1_col8\" class=\"data row1 col8\" >0.201225</td>\n",
       "                        <td id=\"T_384d7_row1_col9\" class=\"data row1 col9\" >0.000000</td>\n",
       "                        <td id=\"T_384d7_row1_col10\" class=\"data row1 col10\" >0.000000</td>\n",
       "                        <td id=\"T_384d7_row1_col11\" class=\"data row1 col11\" >0.083242</td>\n",
       "                        <td id=\"T_384d7_row1_col12\" class=\"data row1 col12\" >0.000000</td>\n",
       "            </tr>\n",
       "            <tr>\n",
       "                        <th id=\"T_384d7_level0_row2\" class=\"row_heading level0 row2\" >credit_score</th>\n",
       "                        <td id=\"T_384d7_row2_col0\" class=\"data row2 col0\" >0.018946</td>\n",
       "                        <td id=\"T_384d7_row2_col1\" class=\"data row2 col1\" >0.242957</td>\n",
       "                        <td id=\"T_384d7_row2_col2\" class=\"data row2 col2\" >1.000000</td>\n",
       "                        <td id=\"T_384d7_row2_col3\" class=\"data row2 col3\" >0.035375</td>\n",
       "                        <td id=\"T_384d7_row2_col4\" class=\"data row2 col4\" >0.000000</td>\n",
       "                        <td id=\"T_384d7_row2_col5\" class=\"data row2 col5\" >0.000000</td>\n",
       "                        <td id=\"T_384d7_row2_col6\" class=\"data row2 col6\" >0.000000</td>\n",
       "                        <td id=\"T_384d7_row2_col7\" class=\"data row2 col7\" >0.000000</td>\n",
       "                        <td id=\"T_384d7_row2_col8\" class=\"data row2 col8\" >0.034645</td>\n",
       "                        <td id=\"T_384d7_row2_col9\" class=\"data row2 col9\" >0.000000</td>\n",
       "                        <td id=\"T_384d7_row2_col10\" class=\"data row2 col10\" >0.038064</td>\n",
       "                        <td id=\"T_384d7_row2_col11\" class=\"data row2 col11\" >0.034215</td>\n",
       "                        <td id=\"T_384d7_row2_col12\" class=\"data row2 col12\" >0.096525</td>\n",
       "            </tr>\n",
       "            <tr>\n",
       "                        <th id=\"T_384d7_level0_row3\" class=\"row_heading level0 row3\" >geography</th>\n",
       "                        <td id=\"T_384d7_row3_col0\" class=\"data row3 col0\" >0.000000</td>\n",
       "                        <td id=\"T_384d7_row3_col1\" class=\"data row3 col1\" >0.001476</td>\n",
       "                        <td id=\"T_384d7_row3_col2\" class=\"data row3 col2\" >0.035375</td>\n",
       "                        <td id=\"T_384d7_row3_col3\" class=\"data row3 col3\" >1.000000</td>\n",
       "                        <td id=\"T_384d7_row3_col4\" class=\"data row3 col4\" >0.013354</td>\n",
       "                        <td id=\"T_384d7_row3_col5\" class=\"data row3 col5\" >0.085025</td>\n",
       "                        <td id=\"T_384d7_row3_col6\" class=\"data row3 col6\" >0.003879</td>\n",
       "                        <td id=\"T_384d7_row3_col7\" class=\"data row3 col7\" >0.463811</td>\n",
       "                        <td id=\"T_384d7_row3_col8\" class=\"data row3 col8\" >0.049418</td>\n",
       "                        <td id=\"T_384d7_row3_col9\" class=\"data row3 col9\" >0.002919</td>\n",
       "                        <td id=\"T_384d7_row3_col10\" class=\"data row3 col10\" >0.010947</td>\n",
       "                        <td id=\"T_384d7_row3_col11\" class=\"data row3 col11\" >0.028372</td>\n",
       "                        <td id=\"T_384d7_row3_col12\" class=\"data row3 col12\" >0.104511</td>\n",
       "            </tr>\n",
       "            <tr>\n",
       "                        <th id=\"T_384d7_level0_row4\" class=\"row_heading level0 row4\" >gender</th>\n",
       "                        <td id=\"T_384d7_row4_col0\" class=\"data row4 col0\" >0.000000</td>\n",
       "                        <td id=\"T_384d7_row4_col1\" class=\"data row4 col1\" >0.040711</td>\n",
       "                        <td id=\"T_384d7_row4_col2\" class=\"data row4 col2\" >0.000000</td>\n",
       "                        <td id=\"T_384d7_row4_col3\" class=\"data row4 col3\" >0.013354</td>\n",
       "                        <td id=\"T_384d7_row4_col4\" class=\"data row4 col4\" >1.000000</td>\n",
       "                        <td id=\"T_384d7_row4_col5\" class=\"data row4 col5\" >0.033815</td>\n",
       "                        <td id=\"T_384d7_row4_col6\" class=\"data row4 col6\" >0.031054</td>\n",
       "                        <td id=\"T_384d7_row4_col7\" class=\"data row4 col7\" >0.000000</td>\n",
       "                        <td id=\"T_384d7_row4_col8\" class=\"data row4 col8\" >0.063174</td>\n",
       "                        <td id=\"T_384d7_row4_col9\" class=\"data row4 col9\" >0.000000</td>\n",
       "                        <td id=\"T_384d7_row4_col10\" class=\"data row4 col10\" >0.031384</td>\n",
       "                        <td id=\"T_384d7_row4_col11\" class=\"data row4 col11\" >0.028019</td>\n",
       "                        <td id=\"T_384d7_row4_col12\" class=\"data row4 col12\" >0.165422</td>\n",
       "            </tr>\n",
       "            <tr>\n",
       "                        <th id=\"T_384d7_level0_row5\" class=\"row_heading level0 row5\" >age</th>\n",
       "                        <td id=\"T_384d7_row5_col0\" class=\"data row5 col0\" >0.042049</td>\n",
       "                        <td id=\"T_384d7_row5_col1\" class=\"data row5 col1\" >0.333753</td>\n",
       "                        <td id=\"T_384d7_row5_col2\" class=\"data row5 col2\" >0.000000</td>\n",
       "                        <td id=\"T_384d7_row5_col3\" class=\"data row5 col3\" >0.085025</td>\n",
       "                        <td id=\"T_384d7_row5_col4\" class=\"data row5 col4\" >0.033815</td>\n",
       "                        <td id=\"T_384d7_row5_col5\" class=\"data row5 col5\" >1.000000</td>\n",
       "                        <td id=\"T_384d7_row5_col6\" class=\"data row5 col6\" >0.046402</td>\n",
       "                        <td id=\"T_384d7_row5_col7\" class=\"data row5 col7\" >0.035357</td>\n",
       "                        <td id=\"T_384d7_row5_col8\" class=\"data row5 col8\" >0.145566</td>\n",
       "                        <td id=\"T_384d7_row5_col9\" class=\"data row5 col9\" >0.016433</td>\n",
       "                        <td id=\"T_384d7_row5_col10\" class=\"data row5 col10\" >0.187434</td>\n",
       "                        <td id=\"T_384d7_row5_col11\" class=\"data row5 col11\" >0.051545</td>\n",
       "                        <td id=\"T_384d7_row5_col12\" class=\"data row5 col12\" >0.487524</td>\n",
       "            </tr>\n",
       "            <tr>\n",
       "                        <th id=\"T_384d7_level0_row6\" class=\"row_heading level0 row6\" >tenure</th>\n",
       "                        <td id=\"T_384d7_row6_col0\" class=\"data row6 col0\" >0.009340</td>\n",
       "                        <td id=\"T_384d7_row6_col1\" class=\"data row6 col1\" >0.020624</td>\n",
       "                        <td id=\"T_384d7_row6_col2\" class=\"data row6 col2\" >0.000000</td>\n",
       "                        <td id=\"T_384d7_row6_col3\" class=\"data row6 col3\" >0.003879</td>\n",
       "                        <td id=\"T_384d7_row6_col4\" class=\"data row6 col4\" >0.031054</td>\n",
       "                        <td id=\"T_384d7_row6_col5\" class=\"data row6 col5\" >0.046402</td>\n",
       "                        <td id=\"T_384d7_row6_col6\" class=\"data row6 col6\" >1.000000</td>\n",
       "                        <td id=\"T_384d7_row6_col7\" class=\"data row6 col7\" >0.063973</td>\n",
       "                        <td id=\"T_384d7_row6_col8\" class=\"data row6 col8\" >0.060387</td>\n",
       "                        <td id=\"T_384d7_row6_col9\" class=\"data row6 col9\" >0.031409</td>\n",
       "                        <td id=\"T_384d7_row6_col10\" class=\"data row6 col10\" >0.027321</td>\n",
       "                        <td id=\"T_384d7_row6_col11\" class=\"data row6 col11\" >0.000000</td>\n",
       "                        <td id=\"T_384d7_row6_col12\" class=\"data row6 col12\" >0.020845</td>\n",
       "            </tr>\n",
       "            <tr>\n",
       "                        <th id=\"T_384d7_level0_row7\" class=\"row_heading level0 row7\" >balance</th>\n",
       "                        <td id=\"T_384d7_row7_col0\" class=\"data row7 col0\" >0.000000</td>\n",
       "                        <td id=\"T_384d7_row7_col1\" class=\"data row7 col1\" >0.483668</td>\n",
       "                        <td id=\"T_384d7_row7_col2\" class=\"data row7 col2\" >0.000000</td>\n",
       "                        <td id=\"T_384d7_row7_col3\" class=\"data row7 col3\" >0.463811</td>\n",
       "                        <td id=\"T_384d7_row7_col4\" class=\"data row7 col4\" >0.000000</td>\n",
       "                        <td id=\"T_384d7_row7_col5\" class=\"data row7 col5\" >0.035357</td>\n",
       "                        <td id=\"T_384d7_row7_col6\" class=\"data row7 col6\" >0.063973</td>\n",
       "                        <td id=\"T_384d7_row7_col7\" class=\"data row7 col7\" >1.000000</td>\n",
       "                        <td id=\"T_384d7_row7_col8\" class=\"data row7 col8\" >0.371385</td>\n",
       "                        <td id=\"T_384d7_row7_col9\" class=\"data row7 col9\" >0.050671</td>\n",
       "                        <td id=\"T_384d7_row7_col10\" class=\"data row7 col10\" >0.018236</td>\n",
       "                        <td id=\"T_384d7_row7_col11\" class=\"data row7 col11\" >0.000000</td>\n",
       "                        <td id=\"T_384d7_row7_col12\" class=\"data row7 col12\" >0.183365</td>\n",
       "            </tr>\n",
       "            <tr>\n",
       "                        <th id=\"T_384d7_level0_row8\" class=\"row_heading level0 row8\" >num_of_products</th>\n",
       "                        <td id=\"T_384d7_row8_col0\" class=\"data row8 col0\" >0.009637</td>\n",
       "                        <td id=\"T_384d7_row8_col1\" class=\"data row8 col1\" >0.201225</td>\n",
       "                        <td id=\"T_384d7_row8_col2\" class=\"data row8 col2\" >0.034645</td>\n",
       "                        <td id=\"T_384d7_row8_col3\" class=\"data row8 col3\" >0.049418</td>\n",
       "                        <td id=\"T_384d7_row8_col4\" class=\"data row8 col4\" >0.063174</td>\n",
       "                        <td id=\"T_384d7_row8_col5\" class=\"data row8 col5\" >0.145566</td>\n",
       "                        <td id=\"T_384d7_row8_col6\" class=\"data row8 col6\" >0.060387</td>\n",
       "                        <td id=\"T_384d7_row8_col7\" class=\"data row8 col7\" >0.371385</td>\n",
       "                        <td id=\"T_384d7_row8_col8\" class=\"data row8 col8\" >1.000000</td>\n",
       "                        <td id=\"T_384d7_row8_col9\" class=\"data row8 col9\" >0.000000</td>\n",
       "                        <td id=\"T_384d7_row8_col10\" class=\"data row8 col10\" >0.056918</td>\n",
       "                        <td id=\"T_384d7_row8_col11\" class=\"data row8 col11\" >0.031562</td>\n",
       "                        <td id=\"T_384d7_row8_col12\" class=\"data row8 col12\" >0.565084</td>\n",
       "            </tr>\n",
       "            <tr>\n",
       "                        <th id=\"T_384d7_level0_row9\" class=\"row_heading level0 row9\" >has_cr_card</th>\n",
       "                        <td id=\"T_384d7_row9_col0\" class=\"data row9 col0\" >0.000000</td>\n",
       "                        <td id=\"T_384d7_row9_col1\" class=\"data row9 col1\" >0.000000</td>\n",
       "                        <td id=\"T_384d7_row9_col2\" class=\"data row9 col2\" >0.000000</td>\n",
       "                        <td id=\"T_384d7_row9_col3\" class=\"data row9 col3\" >0.002919</td>\n",
       "                        <td id=\"T_384d7_row9_col4\" class=\"data row9 col4\" >0.000000</td>\n",
       "                        <td id=\"T_384d7_row9_col5\" class=\"data row9 col5\" >0.016433</td>\n",
       "                        <td id=\"T_384d7_row9_col6\" class=\"data row9 col6\" >0.031409</td>\n",
       "                        <td id=\"T_384d7_row9_col7\" class=\"data row9 col7\" >0.050671</td>\n",
       "                        <td id=\"T_384d7_row9_col8\" class=\"data row9 col8\" >0.000000</td>\n",
       "                        <td id=\"T_384d7_row9_col9\" class=\"data row9 col9\" >1.000000</td>\n",
       "                        <td id=\"T_384d7_row9_col10\" class=\"data row9 col10\" >0.009377</td>\n",
       "                        <td id=\"T_384d7_row9_col11\" class=\"data row9 col11\" >0.000000</td>\n",
       "                        <td id=\"T_384d7_row9_col12\" class=\"data row9 col12\" >0.000000</td>\n",
       "            </tr>\n",
       "            <tr>\n",
       "                        <th id=\"T_384d7_level0_row10\" class=\"row_heading level0 row10\" >is_active_member</th>\n",
       "                        <td id=\"T_384d7_row10_col0\" class=\"data row10 col0\" >0.014253</td>\n",
       "                        <td id=\"T_384d7_row10_col1\" class=\"data row10 col1\" >0.000000</td>\n",
       "                        <td id=\"T_384d7_row10_col2\" class=\"data row10 col2\" >0.038064</td>\n",
       "                        <td id=\"T_384d7_row10_col3\" class=\"data row10 col3\" >0.010947</td>\n",
       "                        <td id=\"T_384d7_row10_col4\" class=\"data row10 col4\" >0.031384</td>\n",
       "                        <td id=\"T_384d7_row10_col5\" class=\"data row10 col5\" >0.187434</td>\n",
       "                        <td id=\"T_384d7_row10_col6\" class=\"data row10 col6\" >0.027321</td>\n",
       "                        <td id=\"T_384d7_row10_col7\" class=\"data row10 col7\" >0.018236</td>\n",
       "                        <td id=\"T_384d7_row10_col8\" class=\"data row10 col8\" >0.056918</td>\n",
       "                        <td id=\"T_384d7_row10_col9\" class=\"data row10 col9\" >0.009377</td>\n",
       "                        <td id=\"T_384d7_row10_col10\" class=\"data row10 col10\" >1.000000</td>\n",
       "                        <td id=\"T_384d7_row10_col11\" class=\"data row10 col11\" >0.032847</td>\n",
       "                        <td id=\"T_384d7_row10_col12\" class=\"data row10 col12\" >0.241939</td>\n",
       "            </tr>\n",
       "            <tr>\n",
       "                        <th id=\"T_384d7_level0_row11\" class=\"row_heading level0 row11\" >estimated_salary</th>\n",
       "                        <td id=\"T_384d7_row11_col0\" class=\"data row11 col0\" >0.000000</td>\n",
       "                        <td id=\"T_384d7_row11_col1\" class=\"data row11 col1\" >0.083242</td>\n",
       "                        <td id=\"T_384d7_row11_col2\" class=\"data row11 col2\" >0.034215</td>\n",
       "                        <td id=\"T_384d7_row11_col3\" class=\"data row11 col3\" >0.028372</td>\n",
       "                        <td id=\"T_384d7_row11_col4\" class=\"data row11 col4\" >0.028019</td>\n",
       "                        <td id=\"T_384d7_row11_col5\" class=\"data row11 col5\" >0.051545</td>\n",
       "                        <td id=\"T_384d7_row11_col6\" class=\"data row11 col6\" >0.000000</td>\n",
       "                        <td id=\"T_384d7_row11_col7\" class=\"data row11 col7\" >0.000000</td>\n",
       "                        <td id=\"T_384d7_row11_col8\" class=\"data row11 col8\" >0.031562</td>\n",
       "                        <td id=\"T_384d7_row11_col9\" class=\"data row11 col9\" >0.000000</td>\n",
       "                        <td id=\"T_384d7_row11_col10\" class=\"data row11 col10\" >0.032847</td>\n",
       "                        <td id=\"T_384d7_row11_col11\" class=\"data row11 col11\" >1.000000</td>\n",
       "                        <td id=\"T_384d7_row11_col12\" class=\"data row11 col12\" >0.000000</td>\n",
       "            </tr>\n",
       "            <tr>\n",
       "                        <th id=\"T_384d7_level0_row12\" class=\"row_heading level0 row12\" >exited</th>\n",
       "                        <td id=\"T_384d7_row12_col0\" class=\"data row12 col0\" >0.029595</td>\n",
       "                        <td id=\"T_384d7_row12_col1\" class=\"data row12 col1\" >0.000000</td>\n",
       "                        <td id=\"T_384d7_row12_col2\" class=\"data row12 col2\" >0.096525</td>\n",
       "                        <td id=\"T_384d7_row12_col3\" class=\"data row12 col3\" >0.104511</td>\n",
       "                        <td id=\"T_384d7_row12_col4\" class=\"data row12 col4\" >0.165422</td>\n",
       "                        <td id=\"T_384d7_row12_col5\" class=\"data row12 col5\" >0.487524</td>\n",
       "                        <td id=\"T_384d7_row12_col6\" class=\"data row12 col6\" >0.020845</td>\n",
       "                        <td id=\"T_384d7_row12_col7\" class=\"data row12 col7\" >0.183365</td>\n",
       "                        <td id=\"T_384d7_row12_col8\" class=\"data row12 col8\" >0.565084</td>\n",
       "                        <td id=\"T_384d7_row12_col9\" class=\"data row12 col9\" >0.000000</td>\n",
       "                        <td id=\"T_384d7_row12_col10\" class=\"data row12 col10\" >0.241939</td>\n",
       "                        <td id=\"T_384d7_row12_col11\" class=\"data row12 col11\" >0.000000</td>\n",
       "                        <td id=\"T_384d7_row12_col12\" class=\"data row12 col12\" >1.000000</td>\n",
       "            </tr>\n",
       "    </tbody></table>"
      ],
      "text/plain": [
       "<pandas.io.formats.style.Styler at 0x7f74344c4430>"
      ]
     },
     "execution_count": 26,
     "metadata": {},
     "output_type": "execute_result"
    }
   ],
   "source": [
    "df.phik_matrix().style.background_gradient(cmap='coolwarm')"
   ]
  },
  {
   "cell_type": "markdown",
   "id": "6b5a6a72",
   "metadata": {},
   "source": [
    "Самая выраженная зависимость у целевого признака от числа проудктов и возраста клиента, удалять эти признаки не будем, поскольку значения не велики."
   ]
  },
  {
   "cell_type": "markdown",
   "id": "3e28e3d0",
   "metadata": {},
   "source": [
    "**Итоги подготовки данных**\n",
    "- выявлен дисбаланс целевого признака\n",
    "- остался открыт вопрос с заполненеим пропусков в признаке tenure\n",
    "- удален столбец RowNumber, поскольку информация в нем не важна для построения модели\n",
    "- в остальных данных аномалий не выявлено"
   ]
  },
  {
   "cell_type": "markdown",
   "id": "21504c62",
   "metadata": {},
   "source": [
    "## Подготовка признаков"
   ]
  },
  {
   "cell_type": "markdown",
   "id": "3755ddac",
   "metadata": {},
   "source": [
    "**Цель** \n",
    "\n",
    "подготовить признаки к построениею модели\n",
    "- избавиться от категориальных признаков;\n",
    "- решить вопрос с пропусками в признаке *tenure*;\n",
    "- масштабировать признаки"
   ]
  },
  {
   "cell_type": "markdown",
   "id": "be9785f5",
   "metadata": {},
   "source": [
    "Сделаем копию исходных данных."
   ]
  },
  {
   "cell_type": "code",
   "execution_count": 27,
   "id": "654285e8",
   "metadata": {},
   "outputs": [
    {
     "name": "stdout",
     "output_type": "stream",
     "text": [
      "DF : (10000, 13)\n",
      "\n",
      "DF_ML : (10000, 13)\n"
     ]
    }
   ],
   "source": [
    "df_ml =df.copy()\n",
    "print('DF :', df.shape)\n",
    "print()\n",
    "print('DF_ML :', df_ml.shape)"
   ]
  },
  {
   "cell_type": "markdown",
   "id": "05516abd",
   "metadata": {},
   "source": [
    "Уникальный идентификатор клиента для прогнозирования факта ухода клиента значения не играет, поэтому мы его удалим."
   ]
  },
  {
   "cell_type": "code",
   "execution_count": 28,
   "id": "960a18ac",
   "metadata": {},
   "outputs": [],
   "source": [
    "df_ml = df_ml.drop(['customer_id','surname'], axis = 1)"
   ]
  },
  {
   "cell_type": "markdown",
   "id": "053035ae",
   "metadata": {},
   "source": [
    "Оценим распределение целевого признака на пропусках в признаке tenure."
   ]
  },
  {
   "cell_type": "code",
   "execution_count": 29,
   "id": "672722af",
   "metadata": {},
   "outputs": [],
   "source": [
    "def print_circle(col_name, data, _labels,title, _figwidth,_figheight):\n",
    "\n",
    "    # зададим разбежку\n",
    "    explode = []\n",
    "    for i in range(len(data)):\n",
    "        explode.append(0.04)\n",
    "        \n",
    "    # нарисуем круг\n",
    "    data.plot(kind = 'pie', \n",
    "              y=col_name,\n",
    "              autopct='%1.2f%%',\n",
    "              explode=explode,\n",
    "              label =\"\",\n",
    "              labels=_labels,\n",
    "              fontsize=12,\n",
    "              figsize=(_figwidth, _figheight),)\n",
    "\n",
    "    plt.title(title,fontsize= 16, fontweight = 'bold')\n",
    "    plt.show()"
   ]
  },
  {
   "cell_type": "code",
   "execution_count": 30,
   "id": "a2277a0e",
   "metadata": {},
   "outputs": [],
   "source": [
    "mw_mapping={\n",
    "    0: 'Клиент остался', \n",
    "    1: 'Клиент ушел'\n",
    "} "
   ]
  },
  {
   "cell_type": "code",
   "execution_count": 31,
   "id": "b5290638",
   "metadata": {},
   "outputs": [
    {
     "data": {
      "image/png": "[encoded data removed]",
      "text/plain": [
       "<Figure size 432x432 with 1 Axes>"
      ]
     },
     "metadata": {},
     "output_type": "display_data"
    }
   ],
   "source": [
    "df_buf = df.loc[df['tenure'].isna()==True]\n",
    "df_buf = df_buf['exited'].value_counts().rename(index=mw_mapping)\n",
    "print_circle('exited', df_buf,df_buf.index.values, 'Анализ оттока клиентов',6,6)"
   ]
  },
  {
   "cell_type": "markdown",
   "id": "9c88cfdb",
   "metadata": {},
   "source": [
    "Соотношение сохраняется 1:4. Поскольку при дальнейшем построении модели лучшие показатели были на уменьшенной выборке, то\n",
    "- удалим записи с пропусками в признаке tenure, для которых exited = 0;\n",
    "- оставшиеся пропуски заполним заглушкой = 11\n",
    "- масштабируем признак tenure"
   ]
  },
  {
   "cell_type": "code",
   "execution_count": 32,
   "id": "59f794f1",
   "metadata": {},
   "outputs": [
    {
     "name": "stdout",
     "output_type": "stream",
     "text": [
      "(10000, 11)\n",
      "(9274, 11)\n",
      "[ 2.  1.  8.  7.  4.  6.  3. 10.  5.  9.  0. 11.]\n"
     ]
    }
   ],
   "source": [
    "print(df_ml.shape)\n",
    "df_ml = df_ml.loc[(df_ml['tenure'].isna() == False)|(df_ml['tenure'].isna() == True)&(df_ml['exited'] == 1)]\n",
    "\n",
    "print(df_ml.shape)\n",
    "df_ml.loc[df['tenure'].isna() == True,'tenure'] = 11\n",
    "print(df_ml['tenure'].unique())"
   ]
  },
  {
   "cell_type": "code",
   "execution_count": 33,
   "id": "c8d8e036",
   "metadata": {},
   "outputs": [
    {
     "data": {
      "text/html": [
       "<div>\n",
       "<style scoped>\n",
       "    .dataframe tbody tr th:only-of-type {\n",
       "        vertical-align: middle;\n",
       "    }\n",
       "\n",
       "    .dataframe tbody tr th {\n",
       "        vertical-align: top;\n",
       "    }\n",
       "\n",
       "    .dataframe thead th {\n",
       "        text-align: right;\n",
       "    }\n",
       "</style>\n",
       "<table border=\"1\" class=\"dataframe\">\n",
       "  <thead>\n",
       "    <tr style=\"text-align: right;\">\n",
       "      <th></th>\n",
       "      <th>credit_score</th>\n",
       "      <th>age</th>\n",
       "      <th>tenure</th>\n",
       "      <th>balance</th>\n",
       "      <th>num_of_products</th>\n",
       "      <th>has_cr_card</th>\n",
       "      <th>is_active_member</th>\n",
       "      <th>estimated_salary</th>\n",
       "      <th>exited</th>\n",
       "      <th>geography_Germany</th>\n",
       "      <th>geography_Spain</th>\n",
       "      <th>gender_Male</th>\n",
       "    </tr>\n",
       "  </thead>\n",
       "  <tbody>\n",
       "    <tr>\n",
       "      <th>0</th>\n",
       "      <td>619</td>\n",
       "      <td>42</td>\n",
       "      <td>2.0</td>\n",
       "      <td>0.00</td>\n",
       "      <td>1</td>\n",
       "      <td>1</td>\n",
       "      <td>1</td>\n",
       "      <td>101348.88</td>\n",
       "      <td>1</td>\n",
       "      <td>0</td>\n",
       "      <td>0</td>\n",
       "      <td>0</td>\n",
       "    </tr>\n",
       "    <tr>\n",
       "      <th>1</th>\n",
       "      <td>608</td>\n",
       "      <td>41</td>\n",
       "      <td>1.0</td>\n",
       "      <td>83807.86</td>\n",
       "      <td>1</td>\n",
       "      <td>0</td>\n",
       "      <td>1</td>\n",
       "      <td>112542.58</td>\n",
       "      <td>0</td>\n",
       "      <td>0</td>\n",
       "      <td>1</td>\n",
       "      <td>0</td>\n",
       "    </tr>\n",
       "    <tr>\n",
       "      <th>2</th>\n",
       "      <td>502</td>\n",
       "      <td>42</td>\n",
       "      <td>8.0</td>\n",
       "      <td>159660.80</td>\n",
       "      <td>3</td>\n",
       "      <td>1</td>\n",
       "      <td>0</td>\n",
       "      <td>113931.57</td>\n",
       "      <td>1</td>\n",
       "      <td>0</td>\n",
       "      <td>0</td>\n",
       "      <td>0</td>\n",
       "    </tr>\n",
       "    <tr>\n",
       "      <th>3</th>\n",
       "      <td>699</td>\n",
       "      <td>39</td>\n",
       "      <td>1.0</td>\n",
       "      <td>0.00</td>\n",
       "      <td>2</td>\n",
       "      <td>0</td>\n",
       "      <td>0</td>\n",
       "      <td>93826.63</td>\n",
       "      <td>0</td>\n",
       "      <td>0</td>\n",
       "      <td>0</td>\n",
       "      <td>0</td>\n",
       "    </tr>\n",
       "    <tr>\n",
       "      <th>4</th>\n",
       "      <td>850</td>\n",
       "      <td>43</td>\n",
       "      <td>2.0</td>\n",
       "      <td>125510.82</td>\n",
       "      <td>1</td>\n",
       "      <td>1</td>\n",
       "      <td>1</td>\n",
       "      <td>79084.10</td>\n",
       "      <td>0</td>\n",
       "      <td>0</td>\n",
       "      <td>1</td>\n",
       "      <td>0</td>\n",
       "    </tr>\n",
       "  </tbody>\n",
       "</table>\n",
       "</div>"
      ],
      "text/plain": [
       "   credit_score  age  tenure    balance  num_of_products  has_cr_card  \\\n",
       "0           619   42     2.0       0.00                1            1   \n",
       "1           608   41     1.0   83807.86                1            0   \n",
       "2           502   42     8.0  159660.80                3            1   \n",
       "3           699   39     1.0       0.00                2            0   \n",
       "4           850   43     2.0  125510.82                1            1   \n",
       "\n",
       "   is_active_member  estimated_salary  exited  geography_Germany  \\\n",
       "0                 1         101348.88       1                  0   \n",
       "1                 1         112542.58       0                  0   \n",
       "2                 0         113931.57       1                  0   \n",
       "3                 0          93826.63       0                  0   \n",
       "4                 1          79084.10       0                  0   \n",
       "\n",
       "   geography_Spain  gender_Male  \n",
       "0                0            0  \n",
       "1                1            0  \n",
       "2                0            0  \n",
       "3                0            0  \n",
       "4                1            0  "
      ]
     },
     "execution_count": 33,
     "metadata": {},
     "output_type": "execute_result"
    }
   ],
   "source": [
    "df_ml = pd.get_dummies(df_ml,drop_first=True)\n",
    "df_ml.head()"
   ]
  },
  {
   "cell_type": "markdown",
   "id": "6c46b218",
   "metadata": {},
   "source": [
    "Строковых данных не оcталось."
   ]
  },
  {
   "cell_type": "markdown",
   "id": "d14e04fd",
   "metadata": {},
   "source": [
    "**Цель**\n",
    "разделить подготовленные данные на 3 выборки: обучающую, валидационную и тестовую"
   ]
  },
  {
   "cell_type": "code",
   "execution_count": 35,
   "id": "8ab8d90b",
   "metadata": {},
   "outputs": [
    {
     "data": {
      "image/png": "[encoded data removed]",
      "text/plain": [
       "<Figure size 432x432 with 1 Axes>"
      ]
     },
     "metadata": {},
     "output_type": "display_data"
    }
   ],
   "source": [
    "df_buf = df_ml['exited'].value_counts().rename(index=mw_mapping)\n",
    "print_circle('exited', df_buf,df_buf.index.values, 'Анализ оттока клиентов',6,6)"
   ]
  },
  {
   "cell_type": "markdown",
   "id": "297da2e2",
   "metadata": {},
   "source": [
    "График демонстирует несбалансированность целевого признака.\n",
    "\n",
    "На данном этапе построим модели без учета разбалансированности классов."
   ]
  },
  {
   "cell_type": "markdown",
   "id": "0e80b8a7",
   "metadata": {},
   "source": [
    "Необходимо разбить предоставленные данные на 3 выборки: обучающую, валидационную и тестовую.\n",
    "\n",
    "Обучающая выборка необходима для обучения модели.\n",
    "\n",
    "Валидационная выборка нужна для оценки переобученности модели, для оценки ошибки прогнозирования при выборе модели, для настройки гиперпараметров и выбора лучшей модели, показывает, как может повести себя модель с новыми данными.\n",
    "\n",
    "Тестовая выборка понадобится для оценки работы готовой модели, для оценки ошибки обобщения для окончательной выбранной модели.\n",
    "\n",
    "Поскольку у нас отсутствует спрятаная тестовая выборка, разделим имеющиеся данные в соотношении 3/1/1.\n",
    "\n",
    "обучающая 60%, валидационная 20%, тестовая 20%"
   ]
  },
  {
   "cell_type": "code",
   "execution_count": 36,
   "id": "b05ef57a",
   "metadata": {},
   "outputs": [
    {
     "name": "stdout",
     "output_type": "stream",
     "text": [
      "(5564, 11)\n",
      "(5564,)\n",
      "(1855, 11)\n",
      "(1855,)\n",
      "(1855, 11)\n",
      "(1855,)\n"
     ]
    },
    {
     "data": {
      "text/plain": [
       "(None, None)"
      ]
     },
     "execution_count": 36,
     "metadata": {},
     "output_type": "execute_result"
    }
   ],
   "source": [
    "x_train, y_train, x_valid, y_valid, x_test, y_test = train_valid_test_split(df_ml, target = 'exited', \n",
    "                                                                            train_size=0.6, valid_size=0.2, test_size=0.2,random_state=12345)\n",
    "\n",
    "print(x_train.shape), print(y_train.shape)\n",
    "print(x_valid.shape), print(y_valid.shape)\n",
    "print(x_test.shape), print(y_test.shape)"
   ]
  },
  {
   "cell_type": "code",
   "execution_count": 37,
   "id": "4174eb7f",
   "metadata": {},
   "outputs": [],
   "source": [
    "def hist_circle(df, ax):\n",
    "    d = df.value_counts()\n",
    "    d.plot(kind = 'pie', \n",
    "          autopct='%1.2f%%',\n",
    "          label =\"\",\n",
    "          labels=d.rename(index=mw_mapping).index.values,\n",
    "          fontsize=12,\n",
    "          ax = ax)"
   ]
  },
  {
   "cell_type": "code",
   "execution_count": 38,
   "id": "3e2ffd24",
   "metadata": {},
   "outputs": [],
   "source": [
    "def hist_circles(df, df_train, df_valid, df_test, title):\n",
    " \n",
    "    fig, ax = plt.subplots(2, 2, figsize = (10,10))\n",
    "    hist_circle(df,ax[0, 0])\n",
    "    hist_circle(df_train,ax[0, 1])\n",
    "    hist_circle(df_valid,ax[1, 0])\n",
    "    hist_circle(df_test,ax[1, 1])\n",
    "\n",
    "    plt.suptitle(title)\n",
    "    plt.show()"
   ]
  },
  {
   "cell_type": "code",
   "execution_count": 39,
   "id": "7663bf8a",
   "metadata": {},
   "outputs": [
    {
     "data": {
      "image/png": "[encoded data removed]",
      "text/plain": [
       "<Figure size 720x720 with 4 Axes>"
      ]
     },
     "metadata": {},
     "output_type": "display_data"
    }
   ],
   "source": [
    "hist_circles(df_ml['exited'],\n",
    "           y_train,\n",
    "           y_valid,\n",
    "           y_test,\n",
    "           title = 'Результат разбиения на выборки')"
   ]
  },
  {
   "cell_type": "markdown",
   "id": "032dca26",
   "metadata": {},
   "source": [
    "Таким образом, данные в выборках распределены с учетом пропорции в исходных данных."
   ]
  },
  {
   "cell_type": "markdown",
   "id": "288e06d6",
   "metadata": {},
   "source": [
    "Масштабируем колличественные признаки.\n",
    "\n",
    "Теперь к ним относится и те, что раньше были строковыми.\n",
    "\n",
    "И признаки num_of_products, has_cr_card, is_active_member - масштабирование для них не нужно."
   ]
  },
  {
   "cell_type": "code",
   "execution_count": 40,
   "id": "50f32827",
   "metadata": {},
   "outputs": [],
   "source": [
    "numeric = ['credit_score', 'age', 'tenure', 'balance', 'estimated_salary', \n",
    "       'geography_Germany', 'geography_Spain', 'gender_Male']"
   ]
  },
  {
   "cell_type": "code",
   "execution_count": 41,
   "id": "a18f76cb",
   "metadata": {},
   "outputs": [
    {
     "data": {
      "text/html": [
       "<div>\n",
       "<style scoped>\n",
       "    .dataframe tbody tr th:only-of-type {\n",
       "        vertical-align: middle;\n",
       "    }\n",
       "\n",
       "    .dataframe tbody tr th {\n",
       "        vertical-align: top;\n",
       "    }\n",
       "\n",
       "    .dataframe thead th {\n",
       "        text-align: right;\n",
       "    }\n",
       "</style>\n",
       "<table border=\"1\" class=\"dataframe\">\n",
       "  <thead>\n",
       "    <tr style=\"text-align: right;\">\n",
       "      <th></th>\n",
       "      <th>credit_score</th>\n",
       "      <th>age</th>\n",
       "      <th>tenure</th>\n",
       "      <th>balance</th>\n",
       "      <th>num_of_products</th>\n",
       "      <th>has_cr_card</th>\n",
       "      <th>is_active_member</th>\n",
       "      <th>estimated_salary</th>\n",
       "      <th>geography_Germany</th>\n",
       "      <th>geography_Spain</th>\n",
       "      <th>gender_Male</th>\n",
       "    </tr>\n",
       "  </thead>\n",
       "  <tbody>\n",
       "    <tr>\n",
       "      <th>8751</th>\n",
       "      <td>-0.785193</td>\n",
       "      <td>-0.849098</td>\n",
       "      <td>0.977447</td>\n",
       "      <td>-1.218732</td>\n",
       "      <td>2</td>\n",
       "      <td>1</td>\n",
       "      <td>0</td>\n",
       "      <td>1.479726</td>\n",
       "      <td>-0.569602</td>\n",
       "      <td>1.711543</td>\n",
       "      <td>-1.103457</td>\n",
       "    </tr>\n",
       "    <tr>\n",
       "      <th>6361</th>\n",
       "      <td>-2.427955</td>\n",
       "      <td>-1.319166</td>\n",
       "      <td>-1.713887</td>\n",
       "      <td>0.349885</td>\n",
       "      <td>2</td>\n",
       "      <td>1</td>\n",
       "      <td>1</td>\n",
       "      <td>1.046657</td>\n",
       "      <td>1.755611</td>\n",
       "      <td>-0.584268</td>\n",
       "      <td>-1.103457</td>\n",
       "    </tr>\n",
       "    <tr>\n",
       "      <th>8968</th>\n",
       "      <td>0.681927</td>\n",
       "      <td>-0.567056</td>\n",
       "      <td>-1.713887</td>\n",
       "      <td>0.639381</td>\n",
       "      <td>1</td>\n",
       "      <td>1</td>\n",
       "      <td>1</td>\n",
       "      <td>-0.332125</td>\n",
       "      <td>1.755611</td>\n",
       "      <td>-0.584268</td>\n",
       "      <td>-1.103457</td>\n",
       "    </tr>\n",
       "    <tr>\n",
       "      <th>7055</th>\n",
       "      <td>-0.320261</td>\n",
       "      <td>-0.567056</td>\n",
       "      <td>1.313863</td>\n",
       "      <td>0.829741</td>\n",
       "      <td>1</td>\n",
       "      <td>1</td>\n",
       "      <td>1</td>\n",
       "      <td>1.608433</td>\n",
       "      <td>-0.569602</td>\n",
       "      <td>-0.584268</td>\n",
       "      <td>-1.103457</td>\n",
       "    </tr>\n",
       "    <tr>\n",
       "      <th>9661</th>\n",
       "      <td>0.247990</td>\n",
       "      <td>-0.002974</td>\n",
       "      <td>0.304613</td>\n",
       "      <td>-1.218732</td>\n",
       "      <td>2</td>\n",
       "      <td>0</td>\n",
       "      <td>0</td>\n",
       "      <td>-0.298778</td>\n",
       "      <td>-0.569602</td>\n",
       "      <td>-0.584268</td>\n",
       "      <td>-1.103457</td>\n",
       "    </tr>\n",
       "  </tbody>\n",
       "</table>\n",
       "</div>"
      ],
      "text/plain": [
       "      credit_score       age    tenure   balance  num_of_products  \\\n",
       "8751     -0.785193 -0.849098  0.977447 -1.218732                2   \n",
       "6361     -2.427955 -1.319166 -1.713887  0.349885                2   \n",
       "8968      0.681927 -0.567056 -1.713887  0.639381                1   \n",
       "7055     -0.320261 -0.567056  1.313863  0.829741                1   \n",
       "9661      0.247990 -0.002974  0.304613 -1.218732                2   \n",
       "\n",
       "      has_cr_card  is_active_member  estimated_salary  geography_Germany  \\\n",
       "8751            1                 0          1.479726          -0.569602   \n",
       "6361            1                 1          1.046657           1.755611   \n",
       "8968            1                 1         -0.332125           1.755611   \n",
       "7055            1                 1          1.608433          -0.569602   \n",
       "9661            0                 0         -0.298778          -0.569602   \n",
       "\n",
       "      geography_Spain  gender_Male  \n",
       "8751         1.711543    -1.103457  \n",
       "6361        -0.584268    -1.103457  \n",
       "8968        -0.584268    -1.103457  \n",
       "7055        -0.584268    -1.103457  \n",
       "9661        -0.584268    -1.103457  "
      ]
     },
     "execution_count": 41,
     "metadata": {},
     "output_type": "execute_result"
    }
   ],
   "source": [
    "scaler = StandardScaler()\n",
    "scaler.fit(x_train[numeric])\n",
    "x_train[numeric] = scaler.transform(x_train[numeric])\n",
    "x_valid[numeric] = scaler.transform(x_valid[numeric])\n",
    "x_test[numeric] = scaler.transform(x_test[numeric])\n",
    "x_train.head()"
   ]
  },
  {
   "cell_type": "markdown",
   "id": "72460d6e",
   "metadata": {},
   "source": [
    "Посмотрим распределение признаков после масштабирования."
   ]
  },
  {
   "cell_type": "code",
   "execution_count": 42,
   "id": "b026d57f",
   "metadata": {},
   "outputs": [
    {
     "data": {
      "image/png": "[encoded data removed]",
      "text/plain": [
       "<Figure size 1152x1152 with 12 Axes>"
      ]
     },
     "metadata": {
      "needs_background": "light"
     },
     "output_type": "display_data"
    }
   ],
   "source": [
    "x_train.hist(figsize=(16, 16), alpha=0.7, bins=100)\n",
    "plt.show()"
   ]
  },
  {
   "cell_type": "markdown",
   "id": "ea078327",
   "metadata": {},
   "source": [
    "**Итоги**\n",
    "\n",
    "- провели прямое кодирование признаков, содержащих текстовую информацию;\n",
    "- пропуски в tenure заполнили заглушкой, числом 11, а те, строки в которых целевой признак был равен 0 - удалили;\n",
    "- масштабировали признаки, требующие данных преобразований.\n",
    "\n",
    "Данные готовы для построения модели."
   ]
  },
  {
   "cell_type": "markdown",
   "id": "ba88979a",
   "metadata": {},
   "source": [
    "## Исследование задачи"
   ]
  },
  {
   "cell_type": "markdown",
   "id": "6e2ea67d",
   "metadata": {},
   "source": [
    "**Цели**\n",
    "\n",
    "Построим 3 модели для прогнозирования оттока клиетов на подготовленных данных, сравним значения F1-меры для них."
   ]
  },
  {
   "cell_type": "markdown",
   "id": "bf34b31f",
   "metadata": {},
   "source": [
    "Создадим таблицу compare_model, содержащую инофрмацию о F1-мерах и ROC_AUC для разных моделей."
   ]
  },
  {
   "cell_type": "code",
   "execution_count": 43,
   "id": "53c65e75",
   "metadata": {},
   "outputs": [],
   "source": [
    "compare_model = pd.DataFrame(columns = ['DecisionTreeClassifier','RandomForestClassifier','LogisticRegression'])"
   ]
  },
  {
   "cell_type": "code",
   "execution_count": 44,
   "id": "eacac780",
   "metadata": {},
   "outputs": [],
   "source": [
    "_index = 'not balance'"
   ]
  },
  {
   "cell_type": "code",
   "execution_count": 45,
   "id": "3a5dc39d",
   "metadata": {},
   "outputs": [],
   "source": [
    "def func_DecisionTreeClassifier(features_train, target_train, features_valid, target_valid, ind, _class_weight = None ):\n",
    "    best_result_f1 = 0\n",
    "    best_result_auc = 0\n",
    "    best_d_f1 = 0\n",
    "    best_d_auc = 0\n",
    "    compare_model.loc[ind+'_F1', 'DecisionTreeClassifier']  = 0\n",
    "    compare_model.loc[ind+'_auc', 'DecisionTreeClassifier']  = 0\n",
    "    for d in range(1, 30):\n",
    "        #создадим модель с разной глубиной дерева\n",
    "        model = DecisionTreeClassifier(max_depth=d, random_state=12345, class_weight = _class_weight) \n",
    "        #обучим созданную модель на обучающей выборке\n",
    "        model.fit(features_train, target_train)\n",
    "        #предскажем результаты\n",
    "        predicted_valid = model.predict(features_valid)\n",
    "        #оценим качество модели на валидационной выборке\n",
    "        f1 = f1_score(target_valid,predicted_valid)\n",
    "        \n",
    "        probabilities_valid = model.predict_proba(features_valid)\n",
    "        probabilities_one_valid = probabilities_valid[:, 1]\n",
    "        auc_roc = roc_auc_score(target_valid,probabilities_one_valid)\n",
    "        \n",
    "        if f1 > best_result_f1:\n",
    "             best_result_f1 = f1\n",
    "             best_d_f1 = d\n",
    "\n",
    "        if auc_roc > best_result_auc:\n",
    "             best_result_auc = auc_roc\n",
    "             best_d_auc = d\n",
    "            \n",
    "    print(\"Лучшее значение F1 меры:\", best_result_f1, ' при глубине дерева = ', best_d_f1)\n",
    "    print(\"Лучшее значение AUC-ROC\", best_result_auc, ' при глубине дерева = ', best_d_auc)\n",
    "    if compare_model.loc[ind+'_F1', 'DecisionTreeClassifier'] < best_result_f1 :\n",
    "        compare_model.loc[ind+'_F1', 'DecisionTreeClassifier']  = best_result_f1\n",
    "    if compare_model.loc[ind+'_auc', 'DecisionTreeClassifier'] < best_result_auc :\n",
    "        compare_model.loc[ind+'_auc', 'DecisionTreeClassifier']  = best_result_auc\n",
    "    return best_d_f1, best_d_auc"
   ]
  },
  {
   "cell_type": "markdown",
   "id": "fc91071b",
   "metadata": {},
   "source": [
    "Построим модель Дерево решений. Подберем оптимальное значение глубины дерева."
   ]
  },
  {
   "cell_type": "code",
   "execution_count": 46,
   "id": "8f8e6762",
   "metadata": {},
   "outputs": [
    {
     "name": "stdout",
     "output_type": "stream",
     "text": [
      "Лучшее значение F1 меры: 0.5976331360946745  при глубине дерева =  7\n",
      "Лучшее значение AUC-ROC 0.8522256360731968  при глубине дерева =  6\n"
     ]
    },
    {
     "data": {
      "text/html": [
       "<div>\n",
       "<style scoped>\n",
       "    .dataframe tbody tr th:only-of-type {\n",
       "        vertical-align: middle;\n",
       "    }\n",
       "\n",
       "    .dataframe tbody tr th {\n",
       "        vertical-align: top;\n",
       "    }\n",
       "\n",
       "    .dataframe thead th {\n",
       "        text-align: right;\n",
       "    }\n",
       "</style>\n",
       "<table border=\"1\" class=\"dataframe\">\n",
       "  <thead>\n",
       "    <tr style=\"text-align: right;\">\n",
       "      <th></th>\n",
       "      <th>DecisionTreeClassifier</th>\n",
       "      <th>RandomForestClassifier</th>\n",
       "      <th>LogisticRegression</th>\n",
       "    </tr>\n",
       "  </thead>\n",
       "  <tbody>\n",
       "    <tr>\n",
       "      <th>not balance_F1</th>\n",
       "      <td>0.597633</td>\n",
       "      <td>NaN</td>\n",
       "      <td>NaN</td>\n",
       "    </tr>\n",
       "    <tr>\n",
       "      <th>not balance_auc</th>\n",
       "      <td>0.852226</td>\n",
       "      <td>NaN</td>\n",
       "      <td>NaN</td>\n",
       "    </tr>\n",
       "  </tbody>\n",
       "</table>\n",
       "</div>"
      ],
      "text/plain": [
       "                DecisionTreeClassifier RandomForestClassifier  \\\n",
       "not balance_F1                0.597633                    NaN   \n",
       "not balance_auc               0.852226                    NaN   \n",
       "\n",
       "                LogisticRegression  \n",
       "not balance_F1                 NaN  \n",
       "not balance_auc                NaN  "
      ]
     },
     "execution_count": 46,
     "metadata": {},
     "output_type": "execute_result"
    }
   ],
   "source": [
    "best_depth = func_DecisionTreeClassifier(x_train, y_train, x_valid, y_valid, _index)\n",
    "compare_model"
   ]
  },
  {
   "cell_type": "code",
   "execution_count": 47,
   "id": "669a61b8",
   "metadata": {},
   "outputs": [],
   "source": [
    "def func_RandomForestClassifier(features_train, target_train, features_valid, target_valid, best_depth, ind, _class_weight = None):\n",
    "    best_result_f1 = 0\n",
    "    best_result_auc = 0\n",
    "    best_d_f1 = 0\n",
    "    best_d_auc = 0\n",
    "    compare_model.loc[ind+'_F1', 'RandomForestClassifier']  = 0\n",
    "    compare_model.loc[ind+'_auc', 'RandomForestClassifier']  = 0\n",
    "    for d in range(1, 20):\n",
    "        #создадим модель с разным числом деревьев\n",
    "        model = RandomForestClassifier(random_state=56879, n_estimators=d, max_depth = best_depth, class_weight = _class_weight) \n",
    "        #обучим созданную модель на обучающей выборке\n",
    "        model.fit(features_train, target_train)\n",
    "        #предскажем результаты\n",
    "        predicted_valid = model.predict(features_valid)\n",
    "        #оценим качество модели на валидационной выборке\n",
    "        f1 = f1_score(target_valid,predicted_valid)\n",
    "\n",
    "        probabilities_valid = model.predict_proba(features_valid)\n",
    "        probabilities_one_valid = probabilities_valid[:, 1]\n",
    "        auc_roc = roc_auc_score(target_valid,probabilities_one_valid)\n",
    "        \n",
    "        if f1 > best_result_f1:\n",
    "             best_result_f1 = f1\n",
    "             best_d_f1 = d\n",
    "\n",
    "        if auc_roc > best_result_auc:\n",
    "             best_result_auc = auc_roc\n",
    "             best_d_auc = d\n",
    "            \n",
    "    print(\"Лучшее значение F1 меры:\", best_result_f1, ' при числе деревьев = ', best_d_f1)\n",
    "    print(\"Лучшее значение AUC-ROC\", best_result_auc, ' при числе деревьев = ', best_d_auc)\n",
    "    if compare_model.loc[ind+'_F1', 'RandomForestClassifier'] < best_result_f1 :\n",
    "        compare_model.loc[ind+'_F1', 'RandomForestClassifier']  = best_result_f1\n",
    "    if compare_model.loc[ind+'_auc', 'RandomForestClassifier'] < best_result_auc :\n",
    "        compare_model.loc[ind+'_auc', 'RandomForestClassifier']  = best_result_auc\n",
    "    return best_d_f1, best_d_auc"
   ]
  },
  {
   "cell_type": "markdown",
   "id": "431e3684",
   "metadata": {},
   "source": [
    "Построим модель Случайный лес, подберем для модели оптимальное число деревьев."
   ]
  },
  {
   "cell_type": "code",
   "execution_count": 48,
   "id": "b888c90d",
   "metadata": {},
   "outputs": [
    {
     "name": "stdout",
     "output_type": "stream",
     "text": [
      "Лучшее значение F1 меры: 0.5873015873015873  при числе деревьев =  19\n",
      "Лучшее значение AUC-ROC 0.858046454096566  при числе деревьев =  10\n"
     ]
    }
   ],
   "source": [
    "best_n_estimators = func_RandomForestClassifier(x_train, y_train, x_valid, y_valid, best_depth[0], _index)"
   ]
  },
  {
   "cell_type": "code",
   "execution_count": 49,
   "id": "272be703",
   "metadata": {},
   "outputs": [],
   "source": [
    "def func_LogisticRegression(features_train, target_train, features_valid, target_valid, ind, _class_weight = None):\n",
    "    best_result_f1 = 0\n",
    "    best_result_auc = 0\n",
    "    best_d_f1 = 0\n",
    "    best_d_auc = 0\n",
    "    compare_model.loc[ind+'_F1', 'LogisticRegression']  = 0\n",
    "    compare_model.loc[ind+'_auc', 'LogisticRegression']  = 0\n",
    "    for d in range(1, 100, 10):\n",
    "        #создадим модель с разным числом деревьев\n",
    "        model = LogisticRegression(random_state=57498, solver='liblinear', max_iter=d, class_weight = _class_weight) \n",
    "        #обучим созданную модель на обучающей выборке\n",
    "        model.fit(x_train, y_train)\n",
    "        predicted_valid = model.predict(x_valid)\n",
    "        #оценим качество модели на валидационной выборке\n",
    "        f1 = f1_score(y_valid,predicted_valid)\n",
    "        probabilities_valid = model.predict_proba(features_valid)\n",
    "        probabilities_one_valid = probabilities_valid[:, 1]\n",
    "        auc_roc = roc_auc_score(target_valid,probabilities_one_valid)\n",
    "        \n",
    "        if f1 > best_result_f1:\n",
    "             best_result_f1 = f1\n",
    "             best_d_f1 = d\n",
    "\n",
    "        if auc_roc > best_result_auc:\n",
    "             best_result_auc = auc_roc\n",
    "             best_d_auc = d\n",
    "            \n",
    "    print(\"Лучшее значение F1 меры:\", best_result_f1, ' при числе деревьев = ', best_d_f1)\n",
    "    print(\"Лучшее значение AUC-ROC\", best_result_auc, ' при числе деревьев = ', best_d_auc)\n",
    "    if compare_model.loc[ind+'_F1', 'LogisticRegression'] < best_result_f1 :\n",
    "        compare_model.loc[ind+'_F1', 'LogisticRegression']  = best_result_f1\n",
    "    if compare_model.loc[ind+'_auc', 'LogisticRegression'] < best_result_auc :\n",
    "        compare_model.loc[ind+'_auc', 'LogisticRegression']  = best_result_auc\n",
    "    return best_d_f1, best_d_auc"
   ]
  },
  {
   "cell_type": "markdown",
   "id": "b861998b",
   "metadata": {},
   "source": [
    "Построим модель Логистической регрессии. Подберем для нее оптимальное число итераций."
   ]
  },
  {
   "cell_type": "code",
   "execution_count": 50,
   "id": "db97478a",
   "metadata": {},
   "outputs": [
    {
     "name": "stdout",
     "output_type": "stream",
     "text": [
      "Лучшее значение F1 меры: 0.35940099833610645  при числе деревьев =  11\n",
      "Лучшее значение AUC-ROC 0.7705572441072485  при числе деревьев =  11\n"
     ]
    }
   ],
   "source": [
    "best_iter = func_LogisticRegression(x_train, y_train, x_valid, y_valid, _index)"
   ]
  },
  {
   "cell_type": "code",
   "execution_count": 51,
   "id": "65888146",
   "metadata": {},
   "outputs": [
    {
     "name": "stdout",
     "output_type": "stream",
     "text": [
      "Значение F1-меры и AUC-ROC на несбалансированных данных\n"
     ]
    },
    {
     "data": {
      "text/html": [
       "<div>\n",
       "<style scoped>\n",
       "    .dataframe tbody tr th:only-of-type {\n",
       "        vertical-align: middle;\n",
       "    }\n",
       "\n",
       "    .dataframe tbody tr th {\n",
       "        vertical-align: top;\n",
       "    }\n",
       "\n",
       "    .dataframe thead th {\n",
       "        text-align: right;\n",
       "    }\n",
       "</style>\n",
       "<table border=\"1\" class=\"dataframe\">\n",
       "  <thead>\n",
       "    <tr style=\"text-align: right;\">\n",
       "      <th></th>\n",
       "      <th>DecisionTreeClassifier</th>\n",
       "      <th>RandomForestClassifier</th>\n",
       "      <th>LogisticRegression</th>\n",
       "    </tr>\n",
       "  </thead>\n",
       "  <tbody>\n",
       "    <tr>\n",
       "      <th>not balance_F1</th>\n",
       "      <td>0.597633</td>\n",
       "      <td>0.587302</td>\n",
       "      <td>0.359401</td>\n",
       "    </tr>\n",
       "    <tr>\n",
       "      <th>not balance_auc</th>\n",
       "      <td>0.852226</td>\n",
       "      <td>0.858046</td>\n",
       "      <td>0.770557</td>\n",
       "    </tr>\n",
       "  </tbody>\n",
       "</table>\n",
       "</div>"
      ],
      "text/plain": [
       "                DecisionTreeClassifier RandomForestClassifier  \\\n",
       "not balance_F1                0.597633               0.587302   \n",
       "not balance_auc               0.852226               0.858046   \n",
       "\n",
       "                LogisticRegression  \n",
       "not balance_F1            0.359401  \n",
       "not balance_auc           0.770557  "
      ]
     },
     "execution_count": 51,
     "metadata": {},
     "output_type": "execute_result"
    }
   ],
   "source": [
    "print('Значение F1-меры и AUC-ROC на несбалансированных данных')\n",
    "compare_model.head()"
   ]
  },
  {
   "cell_type": "markdown",
   "id": "92065ccb",
   "metadata": {},
   "source": [
    "**Итоги**\n",
    "Построили 3 модели и получили следующие показатели F1-меры и AUC-ROC:\n",
    "\n",
    "- Логистическая регрессия - 0,3594/0.7706\n",
    "- Случайный лес - 0,5873/0.8580\n",
    "- Дерево решений - 0,5976/0.8522\n",
    "\n",
    "\n",
    "Дерево решений уже достигла необходимого уровня для F1-меры, однако продолжим процесс улучшения моделей."
   ]
  },
  {
   "cell_type": "markdown",
   "id": "b2d3eef9",
   "metadata": {},
   "source": [
    "## Борьба с дисбалансом"
   ]
  },
  {
   "cell_type": "markdown",
   "id": "efe9fdd2",
   "metadata": {},
   "source": [
    "**Цели**\n",
    "\n",
    "Подобрать оптимальный метод борьбы с дисбалансом целевого признака для максимизации F1-меры."
   ]
  },
  {
   "cell_type": "markdown",
   "id": "e23a4b98",
   "metadata": {},
   "source": [
    "Целевой признак содержит явно несбалансированные значения.\n",
    "\n",
    "Попробуем улучшить значение F1 меры, указав в параметрах необходимость установки веса для значения."
   ]
  },
  {
   "cell_type": "code",
   "execution_count": 52,
   "id": "8aa9e588",
   "metadata": {},
   "outputs": [],
   "source": [
    "_index = 'set weight'"
   ]
  },
  {
   "cell_type": "markdown",
   "id": "4404a21c",
   "metadata": {},
   "source": [
    "Оценим F1-меру для трех моделей машинного обучения."
   ]
  },
  {
   "cell_type": "code",
   "execution_count": 53,
   "id": "7f40f90e",
   "metadata": {},
   "outputs": [
    {
     "name": "stdout",
     "output_type": "stream",
     "text": [
      "Лучшее значение F1 меры: 0.6192236598890943  при глубине дерева =  7\n",
      "Лучшее значение AUC-ROC 0.8496203239152937  при глубине дерева =  6\n",
      "Лучшее значение F1 меры: 0.6251236399604352  при числе деревьев =  19\n",
      "Лучшее значение AUC-ROC 0.8571402585633825  при числе деревьев =  15\n",
      "Лучшее значение F1 меры: 0.5249343832020996  при числе деревьев =  1\n",
      "Лучшее значение AUC-ROC 0.770548975899829  при числе деревьев =  11\n"
     ]
    }
   ],
   "source": [
    "best_depth = func_DecisionTreeClassifier(x_train, y_train, x_valid, y_valid, _index, 'balanced')\n",
    "best_n_estimators = func_RandomForestClassifier(x_train, y_train, x_valid, y_valid,best_depth[0], _index, 'balanced')\n",
    "best_iter = func_LogisticRegression(x_train, y_train, x_valid, y_valid, _index, 'balanced')"
   ]
  },
  {
   "cell_type": "code",
   "execution_count": 54,
   "id": "9b6077d5",
   "metadata": {},
   "outputs": [
    {
     "name": "stdout",
     "output_type": "stream",
     "text": [
      "Сравнение F1-меры и AUC-ROC\n"
     ]
    },
    {
     "data": {
      "text/html": [
       "<div>\n",
       "<style scoped>\n",
       "    .dataframe tbody tr th:only-of-type {\n",
       "        vertical-align: middle;\n",
       "    }\n",
       "\n",
       "    .dataframe tbody tr th {\n",
       "        vertical-align: top;\n",
       "    }\n",
       "\n",
       "    .dataframe thead th {\n",
       "        text-align: right;\n",
       "    }\n",
       "</style>\n",
       "<table border=\"1\" class=\"dataframe\">\n",
       "  <thead>\n",
       "    <tr style=\"text-align: right;\">\n",
       "      <th></th>\n",
       "      <th>DecisionTreeClassifier</th>\n",
       "      <th>RandomForestClassifier</th>\n",
       "      <th>LogisticRegression</th>\n",
       "    </tr>\n",
       "  </thead>\n",
       "  <tbody>\n",
       "    <tr>\n",
       "      <th>not balance_F1</th>\n",
       "      <td>0.597633</td>\n",
       "      <td>0.587302</td>\n",
       "      <td>0.359401</td>\n",
       "    </tr>\n",
       "    <tr>\n",
       "      <th>not balance_auc</th>\n",
       "      <td>0.852226</td>\n",
       "      <td>0.858046</td>\n",
       "      <td>0.770557</td>\n",
       "    </tr>\n",
       "    <tr>\n",
       "      <th>set weight_F1</th>\n",
       "      <td>0.619224</td>\n",
       "      <td>0.625124</td>\n",
       "      <td>0.524934</td>\n",
       "    </tr>\n",
       "    <tr>\n",
       "      <th>set weight_auc</th>\n",
       "      <td>0.84962</td>\n",
       "      <td>0.85714</td>\n",
       "      <td>0.770549</td>\n",
       "    </tr>\n",
       "  </tbody>\n",
       "</table>\n",
       "</div>"
      ],
      "text/plain": [
       "                DecisionTreeClassifier RandomForestClassifier  \\\n",
       "not balance_F1                0.597633               0.587302   \n",
       "not balance_auc               0.852226               0.858046   \n",
       "set weight_F1                 0.619224               0.625124   \n",
       "set weight_auc                 0.84962                0.85714   \n",
       "\n",
       "                LogisticRegression  \n",
       "not balance_F1            0.359401  \n",
       "not balance_auc           0.770557  \n",
       "set weight_F1             0.524934  \n",
       "set weight_auc            0.770549  "
      ]
     },
     "execution_count": 54,
     "metadata": {},
     "output_type": "execute_result"
    }
   ],
   "source": [
    "print('Сравнение F1-меры и AUC-ROC')\n",
    "compare_model"
   ]
  },
  {
   "cell_type": "markdown",
   "id": "88cb31c7",
   "metadata": {},
   "source": [
    "Установка весов позволила улучшить характерстики F1-меры, а вот мера AUC-ROC для Дерева решений показала резульатат хуже 0.8496 против 0.8522 на несбалансированных данных."
   ]
  },
  {
   "cell_type": "markdown",
   "id": "d9de357a",
   "metadata": {},
   "source": [
    "Увеличим выборку и вновь рассчитаем F1-меру"
   ]
  },
  {
   "cell_type": "code",
   "execution_count": 55,
   "id": "755e949b",
   "metadata": {},
   "outputs": [],
   "source": [
    "_index = 'up target'"
   ]
  },
  {
   "cell_type": "code",
   "execution_count": 56,
   "id": "ecb69ca8",
   "metadata": {},
   "outputs": [],
   "source": [
    "def upsample(features, target, repeat):\n",
    "    features_zeros = features[target == 0]\n",
    "    features_ones = features[target == 1]\n",
    "    target_zeros = target[target == 0]\n",
    "    target_ones = target[target == 1]\n",
    "\n",
    "    features_upsampled = pd.concat(\n",
    "        [features_zeros] + [features_ones]*repeat)\n",
    "    target_upsampled = pd.concat(\n",
    "        [target_zeros] + [target_ones]*repeat)\n",
    "    \n",
    "    features_up, target_upsampled = shuffle(\n",
    "        features_upsampled, target_upsampled, random_state=12345)\n",
    "    \n",
    "    return features_upsampled, target_upsampled"
   ]
  },
  {
   "cell_type": "code",
   "execution_count": 57,
   "id": "e87fc96a",
   "metadata": {},
   "outputs": [
    {
     "name": "stdout",
     "output_type": "stream",
     "text": [
      "1    4908\n",
      "0    4337\n",
      "Name: exited, dtype: int64\n",
      "Лучшее значение F1 меры: 0.3692307692307692  при глубине дерева =  2\n",
      "Лучшее значение AUC-ROC 0.513674788251208  при глубине дерева =  27\n",
      "Лучшее значение F1 меры: 0.39473684210526305  при числе деревьев =  1\n",
      "Лучшее значение AUC-ROC 0.6040975582329849  при числе деревьев =  2\n",
      "Лучшее значение F1 меры: 0.5249343832020996  при числе деревьев =  1\n",
      "Лучшее значение AUC-ROC 0.770548975899829  при числе деревьев =  11\n"
     ]
    }
   ],
   "source": [
    "rep = 4\n",
    "x_upsampled, y_upsampled = upsample(x_train, y_train, rep)\n",
    "print(y_upsampled.value_counts())\n",
    "\n",
    "best_depth = func_DecisionTreeClassifier(x_upsampled, y_upsampled, x_valid, y_valid, _index,'balanced')\n",
    "best_n_estimators = func_RandomForestClassifier(x_upsampled, y_upsampled, x_valid, y_valid, best_depth[0],_index,'balanced')\n",
    "best_iter = func_LogisticRegression(x_upsampled, y_upsampled, x_valid, y_valid, _index,'balanced')"
   ]
  },
  {
   "cell_type": "code",
   "execution_count": 58,
   "id": "b1f5cd6b",
   "metadata": {},
   "outputs": [
    {
     "name": "stdout",
     "output_type": "stream",
     "text": [
      "Сравнение F1-меры и AUC-ROC\n"
     ]
    },
    {
     "data": {
      "text/html": [
       "<div>\n",
       "<style scoped>\n",
       "    .dataframe tbody tr th:only-of-type {\n",
       "        vertical-align: middle;\n",
       "    }\n",
       "\n",
       "    .dataframe tbody tr th {\n",
       "        vertical-align: top;\n",
       "    }\n",
       "\n",
       "    .dataframe thead th {\n",
       "        text-align: right;\n",
       "    }\n",
       "</style>\n",
       "<table border=\"1\" class=\"dataframe\">\n",
       "  <thead>\n",
       "    <tr style=\"text-align: right;\">\n",
       "      <th></th>\n",
       "      <th>DecisionTreeClassifier</th>\n",
       "      <th>RandomForestClassifier</th>\n",
       "      <th>LogisticRegression</th>\n",
       "    </tr>\n",
       "  </thead>\n",
       "  <tbody>\n",
       "    <tr>\n",
       "      <th>not balance_F1</th>\n",
       "      <td>0.597633</td>\n",
       "      <td>0.587302</td>\n",
       "      <td>0.359401</td>\n",
       "    </tr>\n",
       "    <tr>\n",
       "      <th>not balance_auc</th>\n",
       "      <td>0.852226</td>\n",
       "      <td>0.858046</td>\n",
       "      <td>0.770557</td>\n",
       "    </tr>\n",
       "    <tr>\n",
       "      <th>set weight_F1</th>\n",
       "      <td>0.619224</td>\n",
       "      <td>0.625124</td>\n",
       "      <td>0.524934</td>\n",
       "    </tr>\n",
       "    <tr>\n",
       "      <th>set weight_auc</th>\n",
       "      <td>0.84962</td>\n",
       "      <td>0.85714</td>\n",
       "      <td>0.770549</td>\n",
       "    </tr>\n",
       "    <tr>\n",
       "      <th>up target_F1</th>\n",
       "      <td>0.369231</td>\n",
       "      <td>0.394737</td>\n",
       "      <td>0.524934</td>\n",
       "    </tr>\n",
       "    <tr>\n",
       "      <th>up target_auc</th>\n",
       "      <td>0.513675</td>\n",
       "      <td>0.604098</td>\n",
       "      <td>0.770549</td>\n",
       "    </tr>\n",
       "  </tbody>\n",
       "</table>\n",
       "</div>"
      ],
      "text/plain": [
       "                DecisionTreeClassifier RandomForestClassifier  \\\n",
       "not balance_F1                0.597633               0.587302   \n",
       "not balance_auc               0.852226               0.858046   \n",
       "set weight_F1                 0.619224               0.625124   \n",
       "set weight_auc                 0.84962                0.85714   \n",
       "up target_F1                  0.369231               0.394737   \n",
       "up target_auc                 0.513675               0.604098   \n",
       "\n",
       "                LogisticRegression  \n",
       "not balance_F1            0.359401  \n",
       "not balance_auc           0.770557  \n",
       "set weight_F1             0.524934  \n",
       "set weight_auc            0.770549  \n",
       "up target_F1              0.524934  \n",
       "up target_auc             0.770549  "
      ]
     },
     "execution_count": 58,
     "metadata": {},
     "output_type": "execute_result"
    }
   ],
   "source": [
    "print('Сравнение F1-меры и AUC-ROC')\n",
    "compare_model"
   ]
  },
  {
   "cell_type": "markdown",
   "id": "290530cd",
   "metadata": {},
   "source": [
    "Увеличение выборки привело к ухудшению значений F1-меры и AUC-ROC для Дерева решений и Случайного леса. Логистическая регрессия изменения не ощутила."
   ]
  },
  {
   "cell_type": "markdown",
   "id": "c4066202",
   "metadata": {},
   "source": [
    "Исследуем к чему приведет уменьшение выборки"
   ]
  },
  {
   "cell_type": "code",
   "execution_count": 59,
   "id": "328635a8",
   "metadata": {},
   "outputs": [],
   "source": [
    "_index = 'down target'"
   ]
  },
  {
   "cell_type": "code",
   "execution_count": 60,
   "id": "586c659e",
   "metadata": {},
   "outputs": [],
   "source": [
    "def downsample(features, target, fraction):\n",
    "    features_zeros = features[target == 0]\n",
    "    features_ones = features[target == 1]\n",
    "    target_zeros = target[target == 0]\n",
    "    target_ones = target[target == 1]\n",
    "\n",
    "    features_downsampled = pd.concat(\n",
    "        [features_zeros.sample(frac=fraction, random_state=12345)] + [features_ones])\n",
    "    target_downsampled = pd.concat(\n",
    "        [target_zeros.sample(frac=fraction, random_state=12345)] + [target_ones])\n",
    "    \n",
    "    features_downsampled, target_downsampled = shuffle(\n",
    "        features_downsampled, target_downsampled, random_state=12345)\n",
    "    \n",
    "    return features_downsampled, target_downsampled"
   ]
  },
  {
   "cell_type": "code",
   "execution_count": 61,
   "id": "3bdc70e3",
   "metadata": {},
   "outputs": [
    {
     "name": "stdout",
     "output_type": "stream",
     "text": [
      "0    1301\n",
      "1    1227\n",
      "Name: exited, dtype: int64\n",
      "Лучшее значение F1 меры: 0.5981818181818183  при глубине дерева =  7\n",
      "Лучшее значение AUC-ROC 0.8410346173308242  при глубине дерева =  6\n",
      "Лучшее значение F1 меры: 0.6266924564796905  при числе деревьев =  15\n",
      "Лучшее значение AUC-ROC 0.8617018285967529  при числе деревьев =  19\n",
      "Лучшее значение F1 меры: 0.5249343832020996  при числе деревьев =  1\n",
      "Лучшее значение AUC-ROC 0.770548975899829  при числе деревьев =  11\n"
     ]
    }
   ],
   "source": [
    "rep = 3\n",
    "x_downsampled, y_downsampled = downsample(x_train, y_train, rep/10)\n",
    "print(y_downsampled.value_counts())\n",
    "\n",
    "best_depth = func_DecisionTreeClassifier(x_downsampled, y_downsampled, x_valid, y_valid, _index,'balanced')\n",
    "best_n_estimators = func_RandomForestClassifier(x_downsampled, y_downsampled, x_valid, y_valid, best_depth[0],_index,'balanced')\n",
    "best_iter = func_LogisticRegression(x_downsampled, y_downsampled, x_valid, y_valid, _index,'balanced')\n"
   ]
  },
  {
   "cell_type": "code",
   "execution_count": 62,
   "id": "fd40ca3c",
   "metadata": {},
   "outputs": [
    {
     "name": "stdout",
     "output_type": "stream",
     "text": [
      "Сравнение F1-меры и AUC-ROC\n"
     ]
    },
    {
     "data": {
      "text/html": [
       "<div>\n",
       "<style scoped>\n",
       "    .dataframe tbody tr th:only-of-type {\n",
       "        vertical-align: middle;\n",
       "    }\n",
       "\n",
       "    .dataframe tbody tr th {\n",
       "        vertical-align: top;\n",
       "    }\n",
       "\n",
       "    .dataframe thead th {\n",
       "        text-align: right;\n",
       "    }\n",
       "</style>\n",
       "<table border=\"1\" class=\"dataframe\">\n",
       "  <thead>\n",
       "    <tr style=\"text-align: right;\">\n",
       "      <th></th>\n",
       "      <th>DecisionTreeClassifier</th>\n",
       "      <th>RandomForestClassifier</th>\n",
       "      <th>LogisticRegression</th>\n",
       "    </tr>\n",
       "  </thead>\n",
       "  <tbody>\n",
       "    <tr>\n",
       "      <th>not balance_F1</th>\n",
       "      <td>0.597633</td>\n",
       "      <td>0.587302</td>\n",
       "      <td>0.359401</td>\n",
       "    </tr>\n",
       "    <tr>\n",
       "      <th>not balance_auc</th>\n",
       "      <td>0.852226</td>\n",
       "      <td>0.858046</td>\n",
       "      <td>0.770557</td>\n",
       "    </tr>\n",
       "    <tr>\n",
       "      <th>set weight_F1</th>\n",
       "      <td>0.619224</td>\n",
       "      <td>0.625124</td>\n",
       "      <td>0.524934</td>\n",
       "    </tr>\n",
       "    <tr>\n",
       "      <th>set weight_auc</th>\n",
       "      <td>0.84962</td>\n",
       "      <td>0.85714</td>\n",
       "      <td>0.770549</td>\n",
       "    </tr>\n",
       "    <tr>\n",
       "      <th>up target_F1</th>\n",
       "      <td>0.369231</td>\n",
       "      <td>0.394737</td>\n",
       "      <td>0.524934</td>\n",
       "    </tr>\n",
       "    <tr>\n",
       "      <th>up target_auc</th>\n",
       "      <td>0.513675</td>\n",
       "      <td>0.604098</td>\n",
       "      <td>0.770549</td>\n",
       "    </tr>\n",
       "    <tr>\n",
       "      <th>down target_F1</th>\n",
       "      <td>0.598182</td>\n",
       "      <td>0.626692</td>\n",
       "      <td>0.524934</td>\n",
       "    </tr>\n",
       "    <tr>\n",
       "      <th>down target_auc</th>\n",
       "      <td>0.841035</td>\n",
       "      <td>0.861702</td>\n",
       "      <td>0.770549</td>\n",
       "    </tr>\n",
       "  </tbody>\n",
       "</table>\n",
       "</div>"
      ],
      "text/plain": [
       "                DecisionTreeClassifier RandomForestClassifier  \\\n",
       "not balance_F1                0.597633               0.587302   \n",
       "not balance_auc               0.852226               0.858046   \n",
       "set weight_F1                 0.619224               0.625124   \n",
       "set weight_auc                 0.84962                0.85714   \n",
       "up target_F1                  0.369231               0.394737   \n",
       "up target_auc                 0.513675               0.604098   \n",
       "down target_F1                0.598182               0.626692   \n",
       "down target_auc               0.841035               0.861702   \n",
       "\n",
       "                LogisticRegression  \n",
       "not balance_F1            0.359401  \n",
       "not balance_auc           0.770557  \n",
       "set weight_F1             0.524934  \n",
       "set weight_auc            0.770549  \n",
       "up target_F1              0.524934  \n",
       "up target_auc             0.770549  \n",
       "down target_F1            0.524934  \n",
       "down target_auc           0.770549  "
      ]
     },
     "execution_count": 62,
     "metadata": {},
     "output_type": "execute_result"
    }
   ],
   "source": [
    "print('Сравнение F1-меры и AUC-ROC')\n",
    "compare_model"
   ]
  },
  {
   "cell_type": "markdown",
   "id": "252eb7ca",
   "metadata": {},
   "source": [
    "Уменьшение числа данных в 0.3 раз (данные, содержащие значение в целевом признаке = 0) привело к улучшению F1-меры и AUC-ROC для Случайного леса.\n",
    "\n",
    "На результаты Логистической регрессии изменения никакого значения не оказали.\n",
    "\n",
    "Для Дерева решений лучшими результатами остаются показатели для данных с установленными весами."
   ]
  },
  {
   "cell_type": "markdown",
   "id": "ce2b3f0e",
   "metadata": {},
   "source": [
    "**Итоги**\n",
    "\n",
    "В результате исследования получили следующие значения F1-меры и AUC-ROC:\n",
    "- Случайный лес - 0,6267/0.8617 при уменьшении данных в 0.4 раза\n",
    "- Дерево решений - 0,6192 на данных с установленными весами, 0.8522 на несбалансированных данных\n",
    "- Логистическая регрессия - 0,5249/0,7705 на всех выборках, кроме несбалансированной\n",
    "\n",
    "Стоит отметить, что на значения AUC-ROC сущемственно повлияло только увеличение целевого признака, показатель ухудшился. Остальные преобразования приводили к изменениям не более чем на 1,3%"
   ]
  },
  {
   "cell_type": "markdown",
   "id": "14f927e1",
   "metadata": {},
   "source": [
    "## Подбор гиперпараметров"
   ]
  },
  {
   "cell_type": "markdown",
   "id": "46cb4066",
   "metadata": {},
   "source": [
    "**Цель**\n",
    "\n",
    "Улучшить модели за счет подбора гиперпараметров."
   ]
  },
  {
   "cell_type": "code",
   "execution_count": 63,
   "id": "4d038a0e",
   "metadata": {},
   "outputs": [],
   "source": [
    "def set_params(n_estimators, max_depth, min_samples_split,\n",
    "               min_samples_leaf,max_features,bootstrap):\n",
    "    \n",
    "    param         =   {'n_estimators': n_estimators,\n",
    "                      'max_features': max_features,\n",
    "                      'max_depth': max_depth,\n",
    "                      'min_samples_split': min_samples_split,\n",
    "                      'min_samples_leaf': min_samples_leaf,\n",
    "                      'bootstrap': bootstrap,\n",
    "                      'class_weight': 'balanced',\n",
    "                      'random_state': 12345}\n",
    "    return param"
   ]
  },
  {
   "cell_type": "code",
   "execution_count": 64,
   "id": "23603567",
   "metadata": {},
   "outputs": [],
   "source": [
    "def search_gp(param,x_train,y_train,x_valid, y_valid):\n",
    "    \n",
    "    f1_best = 0\n",
    "    auc_best = 0\n",
    "    param_best_f1  = set_params(0, 0, 0, 0, '', '')\n",
    "    \n",
    "    for n_estimators in  param['n_estimators']:\n",
    "        for max_depth in param['n_estimators']:\n",
    "            for min_samples_split in param['min_samples_split']:\n",
    "                for min_samples_leaf in param['min_samples_leaf']:\n",
    "                    for max_features in param['max_features']:\n",
    "                        for bootstrap in param['bootstrap']:\n",
    "                            model = RandomForestClassifier(class_weight = 'balanced',\n",
    "                                                           random_state = 12345,\n",
    "                                                           n_estimators = n_estimators, \n",
    "                                                           max_depth = max_depth,\n",
    "                                                           min_samples_split = min_samples_split,\n",
    "                                                           min_samples_leaf = min_samples_leaf,\n",
    "                                                           max_features = max_features,\n",
    "                                                           bootstrap = bootstrap)\n",
    "                            model.fit(x_train, y_train) \n",
    "                            predicted_valid = model.predict(x_valid)\n",
    "                            f1  = f1_score(y_valid,predicted_valid)\n",
    "\n",
    "                            if f1 > f1_best:\n",
    "                                f1_best = f1\n",
    "                                param_best_f1 = set_params(n_estimators, max_depth, min_samples_split,\n",
    "                                                           min_samples_leaf,max_features,bootstrap)\n",
    "                                \n",
    "    compare_model.loc['gp_F1','RandomForestClassifier'] = f1_best\n",
    "    print('F1 :', f1)\n",
    "    return param_best_f1"
   ]
  },
  {
   "cell_type": "code",
   "execution_count": 65,
   "id": "96f70ed2",
   "metadata": {},
   "outputs": [],
   "source": [
    "n_estimators = [int(x) for x in np.linspace(start = 1, stop = 30, num = 6)]\n",
    "##max_depth = [int(x) for x in np.linspace(start = 1, stop = 15, num = 5)]\n",
    "max_depth = [int(x) for x in np.linspace(start = 15, stop = 30, num = 5)]\n",
    "min_samples_split = [int(x) for x in np.linspace(start = 2, stop = 10, num = 5)]\n",
    "min_samples_leaf = [int(x) for x in np.linspace(start = 2, stop = 10, num = 5)]\n",
    "max_features = ['sqrt', 'log2']\n",
    "bootstrap = [True, False]\n",
    "class_weight = ['balanced']\n",
    "random_state = [12345]\n",
    "\n",
    "param_dist = {'n_estimators': n_estimators,\n",
    "                'max_features': max_features,\n",
    "                'max_depth': max_depth,\n",
    "                'min_samples_split': min_samples_split,\n",
    "                'min_samples_leaf': min_samples_leaf,\n",
    "                'bootstrap': bootstrap,\n",
    "                'class_weight':class_weight,\n",
    "                'random_state':random_state}"
   ]
  },
  {
   "cell_type": "markdown",
   "id": "77a7dc75",
   "metadata": {},
   "source": [
    "Подберем гиперпараметры для Случайного леса"
   ]
  },
  {
   "cell_type": "markdown",
   "id": "07d83acc",
   "metadata": {},
   "source": [
    "Сначала проведем подбор для downsample данных. Подберем параметры для лучшего показателя F1-меры.\n",
    "Как показали предыдущие испытания AUC-ROC при этом тоже улучшается."
   ]
  },
  {
   "cell_type": "code",
   "execution_count": 66,
   "id": "09fa33cf",
   "metadata": {},
   "outputs": [
    {
     "name": "stdout",
     "output_type": "stream",
     "text": [
      "F1 : 0.6294896030245747\n",
      "{'n_estimators': 24, 'max_features': 'sqrt', 'max_depth': 24, 'min_samples_split': 2, 'min_samples_leaf': 4, 'bootstrap': False, 'class_weight': 'balanced', 'random_state': 12345}\n"
     ]
    }
   ],
   "source": [
    "print(search_gp(param_dist,x_downsampled, y_downsampled,x_valid,y_valid))"
   ]
  },
  {
   "cell_type": "code",
   "execution_count": 67,
   "id": "1e126705",
   "metadata": {},
   "outputs": [],
   "source": [
    "def search_gp_gscv(x_train,y_train, model, parameters):\n",
    "    gs = GridSearchCV(model, parameters, cv=5, n_jobs=-1)\n",
    "    gs.fit(x_train, y_train)\n",
    "    print(gs.best_params_)    \n",
    "    return gs"
   ]
  },
  {
   "cell_type": "markdown",
   "id": "dbf78b29",
   "metadata": {},
   "source": [
    "Подберем параметры для признаков с выставленными весами"
   ]
  },
  {
   "cell_type": "code",
   "execution_count": 68,
   "id": "7f1d2aec",
   "metadata": {},
   "outputs": [
    {
     "name": "stdout",
     "output_type": "stream",
     "text": [
      "{'bootstrap': True, 'class_weight': 'balanced', 'max_depth': 15, 'max_features': 'sqrt', 'min_samples_leaf': 2, 'min_samples_split': 2, 'n_estimators': 30, 'random_state': 12345}\n",
      "0.6624203821656052 / 0.8690927792090962\n"
     ]
    }
   ],
   "source": [
    "model_forest = search_gp_gscv(x_train,y_train,RandomForestClassifier(), param_dist).best_estimator_\n",
    "\n",
    "model_forest.fit(x_train,y_train)\n",
    "predicted_valid = model_forest.predict(x_valid)\n",
    "f1  = f1_score(y_valid,predicted_valid)\n",
    "compare_model.loc['gp_balance_F1','RandomForestClassifier'] = f1\n",
    "\n",
    "probabilities_valid = model_forest.predict_proba(x_valid)\n",
    "probabilities_one_valid = probabilities_valid[:, 1]\n",
    "auc_roc = roc_auc_score(y_valid,probabilities_one_valid)\n",
    "compare_model.loc['gp_balance_auc','RandomForestClassifier'] = auc_roc\n",
    "print(f1,'/',auc_roc)"
   ]
  },
  {
   "cell_type": "markdown",
   "id": "8c098a25",
   "metadata": {},
   "source": [
    "А теперь попробуем подобрать гиперпараметры для Дерева решений."
   ]
  },
  {
   "cell_type": "code",
   "execution_count": 77,
   "id": "b7f2dce3",
   "metadata": {},
   "outputs": [
    {
     "name": "stdout",
     "output_type": "stream",
     "text": [
      "{'class_weight': 'balanced', 'criterion': 'entropy', 'max_depth': 5, 'max_leaf_nodes': 13, 'min_samples_split': 2, 'random_state': 12345}\n",
      "0.5902222222222222 / 0.8302785062987204\n"
     ]
    }
   ],
   "source": [
    "parameters = {'criterion':['gini','entropy'],\n",
    "                  'max_depth':np.arange(1,21).tolist()[0::2],\n",
    "                  'min_samples_split':np.arange(2,11).tolist()[0::2],\n",
    "                  'max_leaf_nodes':np.arange(3,15).tolist()[0::2],\n",
    "                  'class_weight':['balanced'],\n",
    "                  'random_state': [12345,56789]}\n",
    "\n",
    "model_tree = search_gp_gscv(x_train,y_train, DecisionTreeClassifier(), parameters).best_estimator_\n",
    "model_tree.fit(x_train,y_train)\n",
    "predicted_valid = model_tree.predict(x_valid)\n",
    "f1 = f1_score(y_valid,predicted_valid)\n",
    "compare_model.loc['gp_balance_F1','DecisionTreeClassifier'] = f1\n",
    "\n",
    "probabilities_valid = model_tree.predict_proba(x_valid)\n",
    "probabilities_one_valid = probabilities_valid[:, 1]\n",
    "auc_roc = roc_auc_score(y_valid,probabilities_one_valid)\n",
    "compare_model.loc['gp_balance_auc','DecisionTreeClassifier'] = auc_roc\n",
    "print(f1,'/',auc_roc)"
   ]
  },
  {
   "cell_type": "code",
   "execution_count": 78,
   "id": "16cd38e1",
   "metadata": {},
   "outputs": [
    {
     "data": {
      "text/html": [
       "<style  type=\"text/css\" >\n",
       "</style><table id=\"T_4e8ca_\" ><thead>    <tr>        <th class=\"blank level0\" ></th>        <th class=\"col_heading level0 col0\" >DecisionTreeClassifier</th>        <th class=\"col_heading level0 col1\" >RandomForestClassifier</th>        <th class=\"col_heading level0 col2\" >LogisticRegression</th>    </tr></thead><tbody>\n",
       "                <tr>\n",
       "                        <th id=\"T_4e8ca_level0_row0\" class=\"row_heading level0 row0\" >not balance_F1</th>\n",
       "                        <td id=\"T_4e8ca_row0_col0\" class=\"data row0 col0\" >0.597633</td>\n",
       "                        <td id=\"T_4e8ca_row0_col1\" class=\"data row0 col1\" >0.587302</td>\n",
       "                        <td id=\"T_4e8ca_row0_col2\" class=\"data row0 col2\" >0.359401</td>\n",
       "            </tr>\n",
       "            <tr>\n",
       "                        <th id=\"T_4e8ca_level0_row1\" class=\"row_heading level0 row1\" >not balance_auc</th>\n",
       "                        <td id=\"T_4e8ca_row1_col0\" class=\"data row1 col0\" >0.852226</td>\n",
       "                        <td id=\"T_4e8ca_row1_col1\" class=\"data row1 col1\" >0.858046</td>\n",
       "                        <td id=\"T_4e8ca_row1_col2\" class=\"data row1 col2\" >0.770557</td>\n",
       "            </tr>\n",
       "            <tr>\n",
       "                        <th id=\"T_4e8ca_level0_row2\" class=\"row_heading level0 row2\" >set weight_F1</th>\n",
       "                        <td id=\"T_4e8ca_row2_col0\" class=\"data row2 col0\" >0.619224</td>\n",
       "                        <td id=\"T_4e8ca_row2_col1\" class=\"data row2 col1\" >0.625124</td>\n",
       "                        <td id=\"T_4e8ca_row2_col2\" class=\"data row2 col2\" >0.524934</td>\n",
       "            </tr>\n",
       "            <tr>\n",
       "                        <th id=\"T_4e8ca_level0_row3\" class=\"row_heading level0 row3\" >set weight_auc</th>\n",
       "                        <td id=\"T_4e8ca_row3_col0\" class=\"data row3 col0\" >0.849620</td>\n",
       "                        <td id=\"T_4e8ca_row3_col1\" class=\"data row3 col1\" >0.857140</td>\n",
       "                        <td id=\"T_4e8ca_row3_col2\" class=\"data row3 col2\" >0.770549</td>\n",
       "            </tr>\n",
       "            <tr>\n",
       "                        <th id=\"T_4e8ca_level0_row4\" class=\"row_heading level0 row4\" >up target_F1</th>\n",
       "                        <td id=\"T_4e8ca_row4_col0\" class=\"data row4 col0\" >0.369231</td>\n",
       "                        <td id=\"T_4e8ca_row4_col1\" class=\"data row4 col1\" >0.394737</td>\n",
       "                        <td id=\"T_4e8ca_row4_col2\" class=\"data row4 col2\" >0.524934</td>\n",
       "            </tr>\n",
       "            <tr>\n",
       "                        <th id=\"T_4e8ca_level0_row5\" class=\"row_heading level0 row5\" >up target_auc</th>\n",
       "                        <td id=\"T_4e8ca_row5_col0\" class=\"data row5 col0\" >0.513675</td>\n",
       "                        <td id=\"T_4e8ca_row5_col1\" class=\"data row5 col1\" >0.604098</td>\n",
       "                        <td id=\"T_4e8ca_row5_col2\" class=\"data row5 col2\" >0.770549</td>\n",
       "            </tr>\n",
       "            <tr>\n",
       "                        <th id=\"T_4e8ca_level0_row6\" class=\"row_heading level0 row6\" >down target_F1</th>\n",
       "                        <td id=\"T_4e8ca_row6_col0\" class=\"data row6 col0\" >0.598182</td>\n",
       "                        <td id=\"T_4e8ca_row6_col1\" class=\"data row6 col1\" >0.626692</td>\n",
       "                        <td id=\"T_4e8ca_row6_col2\" class=\"data row6 col2\" >0.524934</td>\n",
       "            </tr>\n",
       "            <tr>\n",
       "                        <th id=\"T_4e8ca_level0_row7\" class=\"row_heading level0 row7\" >down target_auc</th>\n",
       "                        <td id=\"T_4e8ca_row7_col0\" class=\"data row7 col0\" >0.841035</td>\n",
       "                        <td id=\"T_4e8ca_row7_col1\" class=\"data row7 col1\" >0.861702</td>\n",
       "                        <td id=\"T_4e8ca_row7_col2\" class=\"data row7 col2\" >0.770549</td>\n",
       "            </tr>\n",
       "            <tr>\n",
       "                        <th id=\"T_4e8ca_level0_row8\" class=\"row_heading level0 row8\" >gp_F1</th>\n",
       "                        <td id=\"T_4e8ca_row8_col0\" class=\"data row8 col0\" >nan</td>\n",
       "                        <td id=\"T_4e8ca_row8_col1\" class=\"data row8 col1\" >0.644359</td>\n",
       "                        <td id=\"T_4e8ca_row8_col2\" class=\"data row8 col2\" >nan</td>\n",
       "            </tr>\n",
       "            <tr>\n",
       "                        <th id=\"T_4e8ca_level0_row9\" class=\"row_heading level0 row9\" >gp_balance_F1</th>\n",
       "                        <td id=\"T_4e8ca_row9_col0\" class=\"data row9 col0\" >0.590222</td>\n",
       "                        <td id=\"T_4e8ca_row9_col1\" class=\"data row9 col1\" >0.662420</td>\n",
       "                        <td id=\"T_4e8ca_row9_col2\" class=\"data row9 col2\" >nan</td>\n",
       "            </tr>\n",
       "            <tr>\n",
       "                        <th id=\"T_4e8ca_level0_row10\" class=\"row_heading level0 row10\" >gp_balance_auc</th>\n",
       "                        <td id=\"T_4e8ca_row10_col0\" class=\"data row10 col0\" >0.830279</td>\n",
       "                        <td id=\"T_4e8ca_row10_col1\" class=\"data row10 col1\" >0.869093</td>\n",
       "                        <td id=\"T_4e8ca_row10_col2\" class=\"data row10 col2\" >nan</td>\n",
       "            </tr>\n",
       "    </tbody></table>"
      ],
      "text/plain": [
       "<pandas.io.formats.style.Styler at 0x7f73a4a06130>"
      ]
     },
     "execution_count": 78,
     "metadata": {},
     "output_type": "execute_result"
    }
   ],
   "source": [
    "compare_model.style.background_gradient(cmap='red')"
   ]
  },
  {
   "cell_type": "markdown",
   "id": "ce53cec8",
   "metadata": {},
   "source": [
    "**Итоги**\n",
    "\n",
    "Для дальнейшего тестирования оставляем модель Случайный лес, с подобранными гиперпараметрами, обученную на данных, с выставленными весами. На валидационной выборке она показала F1-меру = 0.6624, AUC-ROC = 0.8691.\n"
   ]
  },
  {
   "cell_type": "markdown",
   "id": "db6f4009",
   "metadata": {},
   "source": [
    "## Тестирование модели"
   ]
  },
  {
   "cell_type": "markdown",
   "id": "43d7548b",
   "metadata": {},
   "source": [
    "**Цель**\n",
    "\n",
    "Изучить значения F1-меры и AUC-ROC на тестовой модели."
   ]
  },
  {
   "cell_type": "code",
   "execution_count": 79,
   "id": "a17b2121",
   "metadata": {},
   "outputs": [],
   "source": [
    "def plot_roc(y_test, probabilities_one, title):\n",
    "    # рассчитываем roc-кривую\n",
    "    fpr, tpr, treshold = roc_curve(y_test, probabilities_one)\n",
    "    roc_auc = auc(fpr, tpr)\n",
    "    # строим график\n",
    "    plt.plot(fpr, tpr, color='darkorange',\n",
    "             label='ROC кривая (area = %0.2f)' % roc_auc)\n",
    "    plt.plot([0, 1], [0, 1], color='navy', linestyle='--')\n",
    "    plt.xlim([0.0, 1.0])\n",
    "    plt.ylim([0.0, 1.05])\n",
    "    plt.xlabel('False Positive Rate')\n",
    "    plt.ylabel('True Positive Rate')\n",
    "    plt.title(title)\n",
    "    plt.legend(loc=\"lower right\")\n",
    "    plt.show()"
   ]
  },
  {
   "cell_type": "markdown",
   "id": "6b238dbd",
   "metadata": {},
   "source": [
    "Исследуем модель"
   ]
  },
  {
   "cell_type": "code",
   "execution_count": 81,
   "id": "67803029",
   "metadata": {},
   "outputs": [
    {
     "name": "stdout",
     "output_type": "stream",
     "text": [
      "F1-мера: 0.6550802139037434\n"
     ]
    },
    {
     "data": {
      "image/png": "[encoded data removed]",
      "text/plain": [
       "<Figure size 432x288 with 1 Axes>"
      ]
     },
     "metadata": {},
     "output_type": "display_data"
    }
   ],
   "source": [
    "predicted = model_forest.predict(x_test)\n",
    "f1  = f1_score(y_test,predicted)\n",
    "print('F1-мера:',f1)\n",
    "\n",
    "probabilities = model_forest.predict_proba(x_test)\n",
    "probabilities_one = probabilities[:, 1]\n",
    "auc_roc = roc_auc_score(y_test,probabilities_one)\n",
    "plot_roc(y_test, probabilities_one, 'ROC-кривая модели DecisionTreeClassifier')"
   ]
  },
  {
   "cell_type": "markdown",
   "id": "ae28945c",
   "metadata": {},
   "source": [
    "Итак, на тестовых данных получили следующие значения:\n",
    "\n",
    "F1-мера = 0.6551, AUC-ROC = 0.87"
   ]
  },
  {
   "cell_type": "code",
   "execution_count": 82,
   "id": "16de9337",
   "metadata": {},
   "outputs": [],
   "source": [
    "##Определим функцию для изучения значимости признаков\n",
    "def feature_importance(model, features):\n",
    "    feats = {}\n",
    "    for feature, importance in zip(features.columns, model.feature_importances_):\n",
    "        feats[feature] = importance\n",
    "    importances = pd.DataFrame.from_dict(feats, orient='index').rename(columns={0: 'Gini-Importance'})\n",
    "    importances = importances.sort_values(by='Gini-Importance', ascending=False)\n",
    "    importances = importances.reset_index()\n",
    "    importances = importances.rename(columns={'index': 'Features'})\n",
    "    sns.set(font_scale = 5)\n",
    "    sns.set(style=\"whitegrid\", color_codes=True, font_scale = 1.7)\n",
    "    fig, ax = plt.subplots()\n",
    "    fig.set_size_inches(20,10)\n",
    "    sns.barplot(x=importances['Gini-Importance'], y=importances['Features'], data=importances, color='skyblue')\n",
    "    plt.xlabel('Значимость', fontsize=16, weight = 'bold')\n",
    "    plt.ylabel('Признаки', fontsize=14, weight = 'bold')\n",
    "    plt.title('Значимость признаков.', fontsize=14, weight = 'bold')\n",
    "    display(plt.show())\n",
    "    display(importances)"
   ]
  },
  {
   "cell_type": "code",
   "execution_count": 83,
   "id": "c6d9109f",
   "metadata": {},
   "outputs": [
    {
     "data": {
      "image/png": "[encoded data removed]",
      "text/plain": [
       "<Figure size 1440x720 with 1 Axes>"
      ]
     },
     "metadata": {},
     "output_type": "display_data"
    },
    {
     "data": {
      "text/plain": [
       "None"
      ]
     },
     "metadata": {},
     "output_type": "display_data"
    },
    {
     "data": {
      "text/html": [
       "<div>\n",
       "<style scoped>\n",
       "    .dataframe tbody tr th:only-of-type {\n",
       "        vertical-align: middle;\n",
       "    }\n",
       "\n",
       "    .dataframe tbody tr th {\n",
       "        vertical-align: top;\n",
       "    }\n",
       "\n",
       "    .dataframe thead th {\n",
       "        text-align: right;\n",
       "    }\n",
       "</style>\n",
       "<table border=\"1\" class=\"dataframe\">\n",
       "  <thead>\n",
       "    <tr style=\"text-align: right;\">\n",
       "      <th></th>\n",
       "      <th>Features</th>\n",
       "      <th>Gini-Importance</th>\n",
       "    </tr>\n",
       "  </thead>\n",
       "  <tbody>\n",
       "    <tr>\n",
       "      <th>0</th>\n",
       "      <td>age</td>\n",
       "      <td>0.275571</td>\n",
       "    </tr>\n",
       "    <tr>\n",
       "      <th>1</th>\n",
       "      <td>num_of_products</td>\n",
       "      <td>0.136715</td>\n",
       "    </tr>\n",
       "    <tr>\n",
       "      <th>2</th>\n",
       "      <td>balance</td>\n",
       "      <td>0.125481</td>\n",
       "    </tr>\n",
       "    <tr>\n",
       "      <th>3</th>\n",
       "      <td>estimated_salary</td>\n",
       "      <td>0.114654</td>\n",
       "    </tr>\n",
       "    <tr>\n",
       "      <th>4</th>\n",
       "      <td>credit_score</td>\n",
       "      <td>0.114208</td>\n",
       "    </tr>\n",
       "    <tr>\n",
       "      <th>5</th>\n",
       "      <td>tenure</td>\n",
       "      <td>0.110189</td>\n",
       "    </tr>\n",
       "    <tr>\n",
       "      <th>6</th>\n",
       "      <td>is_active_member</td>\n",
       "      <td>0.041734</td>\n",
       "    </tr>\n",
       "    <tr>\n",
       "      <th>7</th>\n",
       "      <td>geography_Germany</td>\n",
       "      <td>0.034114</td>\n",
       "    </tr>\n",
       "    <tr>\n",
       "      <th>8</th>\n",
       "      <td>gender_Male</td>\n",
       "      <td>0.019772</td>\n",
       "    </tr>\n",
       "    <tr>\n",
       "      <th>9</th>\n",
       "      <td>has_cr_card</td>\n",
       "      <td>0.015220</td>\n",
       "    </tr>\n",
       "    <tr>\n",
       "      <th>10</th>\n",
       "      <td>geography_Spain</td>\n",
       "      <td>0.012342</td>\n",
       "    </tr>\n",
       "  </tbody>\n",
       "</table>\n",
       "</div>"
      ],
      "text/plain": [
       "             Features  Gini-Importance\n",
       "0                 age         0.275571\n",
       "1     num_of_products         0.136715\n",
       "2             balance         0.125481\n",
       "3    estimated_salary         0.114654\n",
       "4        credit_score         0.114208\n",
       "5              tenure         0.110189\n",
       "6    is_active_member         0.041734\n",
       "7   geography_Germany         0.034114\n",
       "8         gender_Male         0.019772\n",
       "9         has_cr_card         0.015220\n",
       "10    geography_Spain         0.012342"
      ]
     },
     "metadata": {},
     "output_type": "display_data"
    }
   ],
   "source": [
    "feature_importance(model_forest, x_train)"
   ]
  },
  {
   "cell_type": "code",
   "execution_count": 84,
   "id": "0e81154c",
   "metadata": {},
   "outputs": [],
   "source": [
    "def get_metrics(model, features, target):\n",
    "    #предскажем результат\n",
    "    predictions_test = model.predict(features)\n",
    "    #вычислим матрицу ошибок\n",
    "    r = sklearn.metrics.confusion_matrix(target, predictions_test)\n",
    "    print(r)\n",
    "    acc = sklearn.metrics.accuracy_score(target, predictions_test)\n",
    "    print(f'accuarace модели  {acc:.2%}')\n",
    "    precision = sklearn.metrics.precision_score(target, predictions_test)\n",
    "    print(f'precision модели для оценки того, что клиент уйдет {precision:.2%}')\n",
    "    precision = sklearn.metrics.precision_score(target, predictions_test,pos_label = 0)\n",
    "    print(f'precision модели для клиентов, которые останутся {precision:.2%}')\n",
    "    recall = sklearn.metrics.recall_score(target, predictions_test)\n",
    "    print(f'Процент верно предсказания, что клиент уйдет (recall) {recall:.2%}')"
   ]
  },
  {
   "cell_type": "code",
   "execution_count": 85,
   "id": "4e7282b0",
   "metadata": {},
   "outputs": [
    {
     "name": "stdout",
     "output_type": "stream",
     "text": [
      "[[1352  115]\n",
      " [ 143  245]]\n",
      "accuarace модели  86.09%\n",
      "precision модели для оценки того, что клиент уйдет 68.06%\n",
      "precision модели для клиентов, которые останутся 90.43%\n",
      "Процент верно предсказания, что клиент уйдет (recall) 63.14%\n"
     ]
    }
   ],
   "source": [
    "get_metrics(model_forest, x_test, y_test)"
   ]
  },
  {
   "cell_type": "markdown",
   "id": "2fca4f0e",
   "metadata": {},
   "source": [
    "## Итоги"
   ]
  },
  {
   "cell_type": "markdown",
   "id": "4b46f9fa",
   "metadata": {},
   "source": [
    "Таким образом мы добились значения F1-меры  = 0.6551 (больше необходимого минимума в 0.59), при этом модель показала значние AUC-ROC = 0.87, что считается очень хорошим результатом предсказания.\n",
    "\n",
    "Предлагается применять модель Случайного леса, обученную на данных с установленными весами и следущими ГП:\n",
    "-'random_state': 12345, \n",
    "-'n_estimators': 30, \n",
    "-'min_samples_split': 2, \n",
    "-'min_samples_leaf': 2, \n",
    "-'max_features': 'sqrt', \n",
    "-'max_depth': 15, \n",
    "-'class_weight': 'balanced'\n",
    "-'bootstrap': True\n",
    "\n",
    "При этом наиболее значимыми являются признаки (указано значение Gini-Importance)\n",
    "- age - 0.275571\n",
    "- num_of_products -\t0.136715\n",
    "- balance - 0.125481\n",
    "- estimated_salary - 0.114654\n",
    "- credit_score - 0.114208\n",
    "- tenure - 0.110189\n",
    "\n",
    "Модель будет достоверно предсказывать, что клиент уйдет в 63 случаях из 100, точнее будет работать для предсказания того, что клиент останется - 90 случаев из 100."
   ]
  }
 ],
 "metadata": {
  "kernelspec": {
   "display_name": "Python 3 (ipykernel)",
   "language": "python",
   "name": "python3"
  },
  "language_info": {
   "codemirror_mode": {
    "name": "ipython",
    "version": 3
   },
   "file_extension": ".py",
   "mimetype": "text/x-python",
   "name": "python",
   "nbconvert_exporter": "python",
   "pygments_lexer": "ipython3",
   "version": "3.11.3"
  }
 },
 "nbformat": 4,
 "nbformat_minor": 5
}
